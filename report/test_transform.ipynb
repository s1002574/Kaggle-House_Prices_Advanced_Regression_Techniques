{
 "cells": [
  {
   "cell_type": "code",
   "execution_count": null,
   "metadata": {},
   "outputs": [],
   "source": []
  },
  {
   "cell_type": "code",
   "execution_count": 1,
   "metadata": {},
   "outputs": [],
   "source": [
    "import pandas as pd\n",
    "import numpy as np\n",
    "import matplotlib.pyplot as plt\n",
    "%matplotlib inline\n",
    "import seaborn as sns\n",
    "from sklearn import preprocessing\n",
    "\n",
    "import data_describe as dd\n",
    "\n",
    "\n",
    "path = '../data/'\n",
    "data_name = [\"train\", 'test', 'sample_submission']"
   ]
  },
  {
   "cell_type": "code",
   "execution_count": 2,
   "metadata": {},
   "outputs": [
    {
     "name": "stdout",
     "output_type": "stream",
     "text": [
      "(1460, 81)\n",
      "(1459, 80)\n",
      "(1459, 2)\n"
     ]
    }
   ],
   "source": [
    "df = pd.read_csv(\"{}{}.csv\".format(path,data_name[0]), encoding='utf8')\n",
    "print(df.shape)\n",
    "\n",
    "df_test = pd.read_csv(\"{}{}.csv\".format(path,data_name[1]), encoding='utf8')\n",
    "print(df_test.shape)\n",
    "\n",
    "df_submission = pd.read_csv(\"{}{}.csv\".format(path,data_name[2]), encoding='utf8')\n",
    "print(df_submission.shape)"
   ]
  },
  {
   "cell_type": "code",
   "execution_count": 3,
   "metadata": {},
   "outputs": [],
   "source": [
    "# 欄位空值與重複值描述\n",
    "data_describe1 =dd.data_describe(df, 'numeric');\n",
    "data_describe2 = dd.data_describe(df_test, 'numeric');\n",
    "\n",
    "# test\n",
    "# data_describe1.loc[['SalePrice', 'BsmtCond', 'MSSubClass'],'type']"
   ]
  },
  {
   "cell_type": "markdown",
   "metadata": {},
   "source": [
    "---"
   ]
  },
  {
   "cell_type": "markdown",
   "metadata": {},
   "source": [
    "# Tool"
   ]
  },
  {
   "cell_type": "code",
   "execution_count": 4,
   "metadata": {},
   "outputs": [],
   "source": [
    "\n",
    "# 有序類別轉換為0-1數值\n",
    "\n",
    "def order_cat_to_num(df, tar_list, map_list):\n",
    "    '''\n",
    "    from list to dict and make it's number between 0 to 1\n",
    "    \n",
    "    df: the dataframe we are going to deal with \n",
    "    tar_list: the list contain target columns \n",
    "    map_list: what u wanna change to numeric by order(from less to great)\n",
    "    ''' \n",
    "    map_dict = dict((k,map_list.index(k)/(len(map_list)-1)) for k in map_list)\n",
    "    for tar in tar_list:\n",
    "        df[tar] = df[tar].map(map_dict) \n",
    "\n",
    "# test\n",
    "# order_cat_to_num(df, ['ExterQual'], ['Po', 'Fa', 'TA', 'Gd', 'Ex'])\n",
    "# df['ExterQual']"
   ]
  },
  {
   "cell_type": "code",
   "execution_count": 5,
   "metadata": {},
   "outputs": [],
   "source": [
    "\n",
    "# 空值為一類別\n",
    "\n",
    "def NA_as_cat(df, tar_list, fill_with=-1):\n",
    "    '''\n",
    "    NULL number is kind of category in some column\n",
    "    \n",
    "    df: the dataframe we are going to deal with \n",
    "    tar_list: the list contain target columns \n",
    "    fill_with: what u wanna put inside null number\n",
    "    ''' \n",
    "    for tar in tar_list:\n",
    "        df.fillna({tar:fill_with}, inplace=True) \n",
    "\n",
    "# test\n",
    "# NA_as_cat(df, ['BsmtQual', 'BsmtCond'], -1)\n",
    "# df[['BsmtQual', 'BsmtCond']].head(20)"
   ]
  },
  {
   "cell_type": "code",
   "execution_count": 6,
   "metadata": {},
   "outputs": [],
   "source": [
    "\n",
    "# 標準化數值欄位(n倍標準差)\n",
    "\n",
    "def standardize_col(df, tar_list):\n",
    "    '''\n",
    "    standardize target columns\n",
    "    \n",
    "    df: the dataframe we are going to deal with \n",
    "    tar_list: the list contain target columns \n",
    "    '''\n",
    "    for tar in tar_list:\n",
    "        df[tar] = preprocessing.scale(df[tar].values, copy=False)\n",
    "\n",
    "# test\n",
    "# standardize_col(df, ['SalePrice', 'LotArea'])       \n",
    "# df[['SalePrice', 'LotArea']].head(10)"
   ]
  },
  {
   "cell_type": "code",
   "execution_count": 7,
   "metadata": {},
   "outputs": [],
   "source": [
    "\n",
    "# 類別資料攤平\n",
    "\n",
    "def one_hot_encoding(df, tar_list, dummy_nan=True):\n",
    "    '''\n",
    "    do one-hot encoding for category types' data,\n",
    "    \n",
    "    df: the dataframe we are going to deal with \n",
    "    tar_list: the list contain target columns\n",
    "    dummy_nan:  null will also take it as a category for default\n",
    "    '''\n",
    "    for tar in tar_list:\n",
    "        df = pd.concat([df, pd.get_dummies(df[tar], prefix=tar, dummy_na=dummy_nan)], axis=1)\n",
    "    df.drop(columns=tar_list, inplace=True)\n",
    "    return df\n",
    "\n",
    "\n",
    "# test\n",
    "# df = one_hot_encoding(df, ['MSSubClass', 'MSZoning'])\n",
    "# df.head(10)"
   ]
  },
  {
   "cell_type": "code",
   "execution_count": 8,
   "metadata": {},
   "outputs": [],
   "source": [
    "\n",
    "# 類別資料圖檢視\n",
    "\n",
    "def cat_plot(df, tar, compare_with = 'SalePrice'):\n",
    "    '''\n",
    "    use plot to find out the relation with y\n",
    "    \n",
    "    df: the dataframe we are going to deal with \n",
    "    tar: the column we want to compare with y\n",
    "    compare_with: y\n",
    "    '''\n",
    "    # 類別分布數量\n",
    "    sns.countplot(tar, data=df)\n",
    "    plt.show()\n",
    "    # 類別與價格分布(一)\n",
    "    sns.catplot(data=df, x=tar, y=compare_with, kind='bar')\n",
    "    plt.show()\n",
    "    # 類別與價格分布(二)\n",
    "    sns.boxplot(data=df, x=tar, y=compare_with)\n",
    "    plt.show()\n",
    "\n",
    "    \n",
    "# test\n",
    "# cat_plot(df, tar = 'SaleCondition', compare_with = 'SalePrice')"
   ]
  },
  {
   "cell_type": "code",
   "execution_count": 9,
   "metadata": {},
   "outputs": [],
   "source": [
    "\n",
    "# 移除空值過多欄位\n",
    "\n",
    "def drop_col(df_list, tar_list):\n",
    "    '''\n",
    "    drop the columns don't need\n",
    "    \n",
    "    df: the dataframe we are going to deal with \n",
    "    tar_list: the list contain target columns\n",
    "    '''\n",
    "    for df in df_list:\n",
    "        df.drop(tar_list, inplace=True, axis=1)\n",
    "\n",
    "\n",
    "# test        \n",
    "# for df and df_test remove the columns 'Alley', 'FireplaceQu', 'PoolQC', 'Fence', 'MiscFeature', which have too much null numbers   \n",
    "\n",
    "# drop_col([df,df_test], ['Alley', 'FireplaceQu', 'PoolQC', 'Fence', 'MiscFeature'])"
   ]
  },
  {
   "cell_type": "markdown",
   "metadata": {},
   "source": [
    "---"
   ]
  },
  {
   "cell_type": "markdown",
   "metadata": {},
   "source": [
    "# Table: Train"
   ]
  },
  {
   "cell_type": "markdown",
   "metadata": {},
   "source": [
    "## 1. 有序類別"
   ]
  },
  {
   "cell_type": "markdown",
   "metadata": {},
   "source": [
    "* Normal:   \n",
    "        LotShape, Utilities, LandSlope, OverallQual, OverallCond, ExterQual, ExterCond, CentralAir, HeatingQC, KitchenQual     \n",
    "* NA is a category:  \n",
    "        BsmtQual, BsmtCond, BsmtExposure, BsmtFinType1, BsmtFinType2, FireplaceQu, GarageFinish, GarageQual, GarageCond,"
   ]
  },
  {
   "cell_type": "markdown",
   "metadata": {},
   "source": [
    "* 有序類別數值化"
   ]
  },
  {
   "cell_type": "code",
   "execution_count": 10,
   "metadata": {},
   "outputs": [],
   "source": [
    "# 有序類別轉數值\n",
    "\n",
    "order_cat_to_num(df, ['BsmtQual','BsmtCond', 'GarageQual', 'GarageCond', 'ExterQual', 'ExterCond','HeatingQC', \n",
    "                      'KitchenQual','FireplaceQu']\n",
    "                      , ['Po', 'Fa', 'TA', 'Gd', 'Ex'])\n",
    "order_cat_to_num(df, ['BsmtExposure'], ['No', 'Mn', 'Av', 'Gd'])\n",
    "order_cat_to_num(df, ['LotShape'], ['IR3', 'IR2', 'IR1', 'Reg'])\n",
    "order_cat_to_num(df, ['Utilities'], ['ELO', 'NoSeWa', 'NoSewr', 'AllPub'])\n",
    "order_cat_to_num(df, ['LandSlope'], ['Sev', 'Mod', 'Gtl'])\n",
    "order_cat_to_num(df, ['OverallQual', 'OverallCond'], [1,2,3,4,5,6,7,8,9,10])\n",
    "order_cat_to_num(df, ['GarageFinish'], ['Unf', 'RFn', 'Fin'])\n",
    "order_cat_to_num(df, ['BsmtFinType1','BsmtFinType2'], ['Unf', 'LwQ', 'Rec', 'BLQ', 'ALQ', 'GLQ'])\n",
    "order_cat_to_num(df, ['CentralAir'], ['N', 'Y'])"
   ]
  },
  {
   "cell_type": "code",
   "execution_count": 11,
   "metadata": {},
   "outputs": [],
   "source": [
    "# NA唯一類別，填入-1\n",
    "\n",
    "tar_list = ['BsmtQual', 'BsmtCond', 'BsmtExposure', 'BsmtFinType1', 'BsmtFinType2', \n",
    "            'FireplaceQu', 'GarageFinish', 'GarageQual', 'GarageCond']\n",
    "\n",
    "NA_as_cat(df, tar_list, -1)"
   ]
  },
  {
   "cell_type": "markdown",
   "metadata": {},
   "source": [
    "## 2. 數值"
   ]
  },
  {
   "cell_type": "markdown",
   "metadata": {},
   "source": [
    "* Normal:   \n",
    "        SalePrice, LotArea, BsmtFinSF1, BsmtFinSF2, BsmtUnfSF, TotalBsmtSF, 1stFlrSF, 2ndFlrSF, LowQualFinSF, GrLivArea, BsmtFullBath, BsmtHalfBath, FullBath, HalfBath, BedroomAbvGr, KitchenAbvGr, TotRmsAbvGrd, Fireplaces, GarageCars, GarageArea, WoodDeckSF, OpenPorchSF, EnclosedPorch, 3SsnPorch, ScreenPorch, PoolArea, MiscVal    \n",
    "* 有空值:    \n",
    "        LotFrontage, MasVnrArea, GarageYrBlt "
   ]
  },
  {
   "cell_type": "code",
   "execution_count": 12,
   "metadata": {},
   "outputs": [],
   "source": [
    "# 空值處理    應建模(KNN, EM)\n",
    "\n",
    "\n",
    "\n",
    "# LotFrontage: 259 → 中位數填入    過多空值得欄位不應用中位數直接補\n",
    "df.fillna({'LotFrontage':df['LotFrontage'].median()}, inplace=True)\n",
    "# print(df[df['LotFrontage'].isnull()==True])    # test\n",
    "\n",
    "\n",
    "# GarageYrBlt: 81 → 中位數填入\n",
    "df['GarageYrBlt'] = np.where(df['GarageFinish'] == -1, -1, df['GarageYrBlt'])    # 沒有車庫的年份該如何處理\n",
    "df['GarageCars'] = np.where(df['GarageFinish'] == -1, 0, df['GarageCars'])\n",
    "df['GarageArea'] = np.where(df['GarageFinish'] == -1, 0, df['GarageArea'])\n",
    "df['GarageQual'] = np.where(df['GarageFinish'] == -1, -1, df['GarageQual'])\n",
    "df['GarageCond'] = np.where(df['GarageFinish'] == -1, -1, df['GarageCond'])\n",
    "\n",
    "\n",
    "df.fillna({'GarageYrBlt':df['GarageYrBlt'].median()}, inplace=True)    # 剩餘空值中位數補\n",
    "# print(df[df['GarageYrBlt'].isnull()==True])    # test"
   ]
  },
  {
   "cell_type": "code",
   "execution_count": 13,
   "metadata": {},
   "outputs": [],
   "source": [
    "# if FireplaceQu == -1: Fireplaces = 0 \n",
    "df['Fireplaces'] = np.where(df['FireplaceQu'] == -1, 0, df['Fireplaces'])"
   ]
  },
  {
   "cell_type": "code",
   "execution_count": 14,
   "metadata": {},
   "outputs": [],
   "source": [
    "# 空值視為沒有\n",
    "\n",
    "# if BsmtHalfBath == np.nan: BsmtHalfBath =0\n",
    "df.fillna({'BsmtHalfBath':0}, inplace=True)\n",
    "\n",
    "# if BsmtFullBath == np.nan: BsmtFullBath =0\n",
    "df.fillna({'BsmtFullBath':0}, inplace=True)"
   ]
  },
  {
   "cell_type": "code",
   "execution_count": 15,
   "metadata": {},
   "outputs": [],
   "source": [
    "# 空值代表typical，填入'Typ'\n",
    "# if Functional == NULL: Functional = Typ\n",
    "df.fillna({'Functional':'Typ'}, inplace=True)"
   ]
  },
  {
   "cell_type": "code",
   "execution_count": 16,
   "metadata": {},
   "outputs": [],
   "source": [
    "# 沒有地下室，面積為零\n",
    "\n",
    "# if BsmtFinType1 == -1: BsmtFinSF1 = 0  \n",
    "df['BsmtFinSF1'] = np.where(df['BsmtFinType1'] == -1, 0, df['BsmtFinSF1'])\n",
    "\n",
    "# if BsmtFinType2 == -1: BsmtFinSF12 = 0  \n",
    "df['BsmtFinSF2'] = np.where(df['BsmtFinType2'] == -1, 0, df['BsmtFinSF2'])\n",
    "\n",
    "df['TotalBsmtSF'] = np.where((df['BsmtFinType2'] == -1)&(df['BsmtFinType1'] == -1), 0, df['TotalBsmtSF'])\n",
    "df['BsmtUnfSF'] = np.where((df['BsmtFinType2'] == -1)&(df['BsmtFinType1'] == -1), 0, df['BsmtUnfSF'])\n",
    "df['BsmtFinSF1'] = np.where((df['BsmtFinType2'] == -1)&(df['BsmtFinType1'] == -1), 0, df['BsmtFinSF1'])\n"
   ]
  },
  {
   "cell_type": "markdown",
   "metadata": {},
   "source": [
    "## 3. 類別"
   ]
  },
  {
   "cell_type": "markdown",
   "metadata": {},
   "source": [
    "* one-hot-encoding:  \n",
    "        MSSubClass, MSZoning, Street, LandContour, LotConfig, Neighborhood, Condition1, Condition2, RoofStyle, RoofMatl, Exterior1st, Exterior2nd, Foundation, Heating, CentralAir(只有2類), PavedDrive, MoSold, SaleType, SaleCondition, YrSold, HouseStyle  \n",
    "* 有空值:    \n",
    "        MasVnrType, Electrical(FuseA, FuseF, FuseP有序; SBrkr, Mix無序。應拆分), Functional,   \n",
    "* NA is a category: \n",
    "        GarageType   "
   ]
  },
  {
   "cell_type": "code",
   "execution_count": 17,
   "metadata": {},
   "outputs": [],
   "source": [
    "#  'GarageType' 76筆空值為一類別\n",
    "NA_as_cat(df, ['GarageType'], fill_with=-1)"
   ]
  },
  {
   "cell_type": "code",
   "execution_count": 18,
   "metadata": {},
   "outputs": [],
   "source": [
    "# 空值處理\n",
    "\n",
    "# MasVnrType: 8 → 眾數填入\n",
    "df.fillna({'MasVnrType':df['MasVnrType'].mode()[0]}, inplace=True)\n",
    "# print(df[df['MasVnrType'].isnull()==True])    # test\n",
    "\n",
    "# MasVnrArea: 8 → if 'MasVnrType' is 'None', fill it with 0 , else fill it with mode\n",
    "df['MasVnrArea'] = np.where(df['MasVnrType'] == 'None', 0, df['MasVnrArea'])\n",
    "df.fillna({'MasVnrArea':df['MasVnrArea'].mode()[0]}, inplace=True)     \n",
    "# print(df[df['MasVnrArea'].isnull()==True])    # test"
   ]
  },
  {
   "cell_type": "code",
   "execution_count": 19,
   "metadata": {},
   "outputs": [],
   "source": [
    "# Electrical: 1 → 眾數填入\n",
    "df.fillna({'Electrical':df['Electrical'].mode()[0]}, inplace=True)\n",
    "# print(df[df['Electrical'].isnull()==True])    # test\n",
    "\n",
    "\n",
    "# GarageType: 81 → 眾數填入\n",
    "df.fillna({'GarageType':df['GarageType'].mode()[0]}, inplace=True)\n",
    "# print(df[df['GarageType'].isnull()==True])    # test"
   ]
  },
  {
   "cell_type": "markdown",
   "metadata": {},
   "source": [
    "## 4. 其他"
   ]
  },
  {
   "cell_type": "markdown",
   "metadata": {},
   "source": [
    "* 刪除:  \n",
    "        Alley, PoolQC, Fence, MiscFeature'  \n",
    " .  \n",
    "* 年份跨度大: (作為數值)\n",
    "        YearBuilt, YearRemodAdd, GarageYrBlt, "
   ]
  },
  {
   "cell_type": "code",
   "execution_count": 20,
   "metadata": {
    "scrolled": true
   },
   "outputs": [
    {
     "data": {
      "text/html": [
       "<div>\n",
       "<style scoped>\n",
       "    .dataframe tbody tr th:only-of-type {\n",
       "        vertical-align: middle;\n",
       "    }\n",
       "\n",
       "    .dataframe tbody tr th {\n",
       "        vertical-align: top;\n",
       "    }\n",
       "\n",
       "    .dataframe thead th {\n",
       "        text-align: right;\n",
       "    }\n",
       "</style>\n",
       "<table border=\"1\" class=\"dataframe\">\n",
       "  <thead>\n",
       "    <tr style=\"text-align: right;\">\n",
       "      <th></th>\n",
       "      <th>duplicate</th>\n",
       "      <th>is_null</th>\n",
       "      <th>null_number</th>\n",
       "      <th>null_rate</th>\n",
       "      <th>type</th>\n",
       "    </tr>\n",
       "  </thead>\n",
       "  <tbody>\n",
       "    <tr>\n",
       "      <th>MSSubClass</th>\n",
       "      <td>15</td>\n",
       "      <td>False</td>\n",
       "      <td>0</td>\n",
       "      <td>0.0</td>\n",
       "      <td>category</td>\n",
       "    </tr>\n",
       "    <tr>\n",
       "      <th>Neighborhood</th>\n",
       "      <td>25</td>\n",
       "      <td>False</td>\n",
       "      <td>0</td>\n",
       "      <td>0.0</td>\n",
       "      <td>category</td>\n",
       "    </tr>\n",
       "    <tr>\n",
       "      <th>Exterior1st</th>\n",
       "      <td>15</td>\n",
       "      <td>False</td>\n",
       "      <td>0</td>\n",
       "      <td>0.0</td>\n",
       "      <td>category</td>\n",
       "    </tr>\n",
       "    <tr>\n",
       "      <th>Exterior2nd</th>\n",
       "      <td>16</td>\n",
       "      <td>False</td>\n",
       "      <td>0</td>\n",
       "      <td>0.0</td>\n",
       "      <td>category</td>\n",
       "    </tr>\n",
       "    <tr>\n",
       "      <th>MoSold</th>\n",
       "      <td>12</td>\n",
       "      <td>False</td>\n",
       "      <td>0</td>\n",
       "      <td>0.0</td>\n",
       "      <td>category</td>\n",
       "    </tr>\n",
       "  </tbody>\n",
       "</table>\n",
       "</div>"
      ],
      "text/plain": [
       "              duplicate  is_null  null_number  null_rate      type\n",
       "MSSubClass           15    False            0        0.0  category\n",
       "Neighborhood         25    False            0        0.0  category\n",
       "Exterior1st          15    False            0        0.0  category\n",
       "Exterior2nd          16    False            0        0.0  category\n",
       "MoSold               12    False            0        0.0  category"
      ]
     },
     "execution_count": 20,
     "metadata": {},
     "output_type": "execute_result"
    }
   ],
   "source": [
    "# 類別數大於10的類別型資料\n",
    "\n",
    "data_describe1[(data_describe1['duplicate']>10) & (data_describe1['type']=='category')]"
   ]
  },
  {
   "cell_type": "code",
   "execution_count": 21,
   "metadata": {},
   "outputs": [
    {
     "data": {
      "text/html": [
       "<div>\n",
       "<style scoped>\n",
       "    .dataframe tbody tr th:only-of-type {\n",
       "        vertical-align: middle;\n",
       "    }\n",
       "\n",
       "    .dataframe tbody tr th {\n",
       "        vertical-align: top;\n",
       "    }\n",
       "\n",
       "    .dataframe thead th {\n",
       "        text-align: right;\n",
       "    }\n",
       "</style>\n",
       "<table border=\"1\" class=\"dataframe\">\n",
       "  <thead>\n",
       "    <tr style=\"text-align: right;\">\n",
       "      <th></th>\n",
       "      <th>duplicate</th>\n",
       "      <th>is_null</th>\n",
       "      <th>null_number</th>\n",
       "      <th>null_rate</th>\n",
       "      <th>type</th>\n",
       "    </tr>\n",
       "  </thead>\n",
       "  <tbody>\n",
       "    <tr>\n",
       "      <th>Alley</th>\n",
       "      <td>3</td>\n",
       "      <td>True</td>\n",
       "      <td>1369</td>\n",
       "      <td>0.937671</td>\n",
       "      <td>numeric</td>\n",
       "    </tr>\n",
       "    <tr>\n",
       "      <th>PoolQC</th>\n",
       "      <td>4</td>\n",
       "      <td>True</td>\n",
       "      <td>1453</td>\n",
       "      <td>0.995205</td>\n",
       "      <td>numeric</td>\n",
       "    </tr>\n",
       "    <tr>\n",
       "      <th>Fence</th>\n",
       "      <td>5</td>\n",
       "      <td>True</td>\n",
       "      <td>1179</td>\n",
       "      <td>0.807534</td>\n",
       "      <td>numeric</td>\n",
       "    </tr>\n",
       "    <tr>\n",
       "      <th>MiscFeature</th>\n",
       "      <td>5</td>\n",
       "      <td>True</td>\n",
       "      <td>1406</td>\n",
       "      <td>0.963014</td>\n",
       "      <td>numeric</td>\n",
       "    </tr>\n",
       "  </tbody>\n",
       "</table>\n",
       "</div>"
      ],
      "text/plain": [
       "             duplicate  is_null  null_number  null_rate     type\n",
       "Alley                3     True         1369   0.937671  numeric\n",
       "PoolQC               4     True         1453   0.995205  numeric\n",
       "Fence                5     True         1179   0.807534  numeric\n",
       "MiscFeature          5     True         1406   0.963014  numeric"
      ]
     },
     "execution_count": 21,
     "metadata": {},
     "output_type": "execute_result"
    }
   ],
   "source": [
    "# 確認空值欄位\n",
    "# check whether have null number left or not\n",
    "\n",
    "data_describe1_2 =dd.data_describe(df, 'numeric');\n",
    "data_describe1_2[data_describe1_2[\"is_null\"]==True]"
   ]
  },
  {
   "cell_type": "code",
   "execution_count": 22,
   "metadata": {},
   "outputs": [
    {
     "data": {
      "text/plain": [
       "(1460, 77)"
      ]
     },
     "execution_count": 22,
     "metadata": {},
     "output_type": "execute_result"
    }
   ],
   "source": [
    "# 刪除空值過多欄位\n",
    "df.drop(['Alley', 'PoolQC', 'Fence', 'MiscFeature'], inplace=True, axis=1)\n",
    "df.shape    # check"
   ]
  },
  {
   "cell_type": "markdown",
   "metadata": {},
   "source": [
    "## 5. 新增欄位"
   ]
  },
  {
   "cell_type": "code",
   "execution_count": null,
   "metadata": {},
   "outputs": [],
   "source": []
  },
  {
   "cell_type": "markdown",
   "metadata": {},
   "source": [
    "---"
   ]
  },
  {
   "cell_type": "markdown",
   "metadata": {},
   "source": [
    "# Table: Test"
   ]
  },
  {
   "cell_type": "markdown",
   "metadata": {},
   "source": [
    "## 1. 有序類別"
   ]
  },
  {
   "cell_type": "markdown",
   "metadata": {},
   "source": [
    "* Normal:   \n",
    "       LotShape, Utilities, LandSlope, OverallQual, OverallCond, ExterQual, ExterCond, CentralAir, HeatingQC     \n",
    "\n",
    "* NA is a category:  \n",
    "        BsmtQual, BsmtCond, BsmtExposure, BsmtFinType1, BsmtFinType2, FireplaceQu, GarageFinish, GarageQual, GarageCond, KitchenQual\n",
    "          \n",
    "* has null number:   \n",
    "        Utilities,"
   ]
  },
  {
   "cell_type": "code",
   "execution_count": 23,
   "metadata": {},
   "outputs": [],
   "source": [
    "# 有序類別轉數值\n",
    "\n",
    "order_cat_to_num(df_test, ['BsmtQual','BsmtCond', 'GarageQual', 'GarageCond', 'ExterQual', 'ExterCond','HeatingQC', \n",
    "                      'KitchenQual', 'FireplaceQu']\n",
    "                      , ['Po', 'Fa', 'TA', 'Gd', 'Ex'])\n",
    "order_cat_to_num(df_test, ['BsmtExposure'], ['No', 'Mn', 'Av', 'Gd'])\n",
    "order_cat_to_num(df_test, ['LotShape'], ['IR3', 'IR2', 'IR1', 'Reg'])\n",
    "order_cat_to_num(df_test, ['Utilities'], ['ELO', 'NoSeWa', 'NoSewr', 'AllPub'])\n",
    "order_cat_to_num(df_test, ['LandSlope'], ['Sev', 'Mod', 'Gtl'])\n",
    "order_cat_to_num(df_test, ['OverallQual', 'OverallCond'], [1,2,3,4,5,6,7,8,9,10])\n",
    "order_cat_to_num(df_test, ['GarageFinish'], ['Unf', 'RFn', 'Fin'])\n",
    "order_cat_to_num(df_test, ['BsmtFinType1','BsmtFinType2'], ['Unf', 'LwQ', 'Rec', 'BLQ', 'ALQ', 'GLQ'])\n",
    "order_cat_to_num(df_test, ['CentralAir'], ['N', 'Y'])"
   ]
  },
  {
   "cell_type": "code",
   "execution_count": 24,
   "metadata": {},
   "outputs": [],
   "source": [
    "# NA唯一類別，填入-1\n",
    "\n",
    "tar_list = ['BsmtQual', 'BsmtCond', 'BsmtExposure', 'BsmtFinType1', 'BsmtFinType2', \n",
    "            'FireplaceQu', 'GarageFinish', 'GarageQual', 'GarageCond', 'KitchenQual']\n",
    "\n",
    "NA_as_cat(df_test, tar_list, fill_with=-1)"
   ]
  },
  {
   "cell_type": "code",
   "execution_count": 25,
   "metadata": {},
   "outputs": [],
   "source": [
    "#   'Utilities' 僅兩筆空值，眾數填入\n",
    "df_test.fillna({'Utilities':df['Utilities'].mode()[0]}, inplace=True)\n",
    "# print(df_test[df_test['Utilities'].isnull()==True])    # test"
   ]
  },
  {
   "cell_type": "markdown",
   "metadata": {},
   "source": [
    "## 2. 數值"
   ]
  },
  {
   "cell_type": "markdown",
   "metadata": {},
   "source": [
    "* Normal:   \n",
    "        SalePrice, LotArea, 1stFlrSF, 2ndFlrSF, LowQualFinSF, GrLivArea, FullBath, HalfBath, BedroomAbvGr, KitchenAbvGr, TotRmsAbvGrd, WoodDeckSF, OpenPorchSF, EnclosedPorch, 3SsnPorch, ScreenPorch, PoolArea, MiscVal    \n",
    "* 有空值:    \n",
    "        LotFrontage, MasVnrArea, BsmtFinSF1, BsmtFinSF2, BsmtUnfSF, TotalBsmtSF, BsmtFullBath, BsmtHalfBath, Fireplaces, GarageCars, GarageArea"
   ]
  },
  {
   "cell_type": "code",
   "execution_count": 26,
   "metadata": {},
   "outputs": [],
   "source": [
    "# 空值處理\n",
    "\n",
    "\n",
    "# LotFrontage: 259 → 中位數填入    過多空值得欄位不應用中位數直接補\n",
    "df_test.fillna({'LotFrontage':df_test['LotFrontage'].median()}, inplace=True)\n",
    "# print(df[df['LotFrontage'].isnull()==True])    # test\n",
    "\n",
    "\n",
    "# GarageYrBlt: 81 → 中位數填入\n",
    "df_test['GarageYrBlt'] = np.where(df_test['GarageFinish'] == -1, -1, df_test['GarageYrBlt'])    # 沒有車庫的年份該如何處理\n",
    "df_test['GarageCars'] = np.where(df_test['GarageFinish'] == -1, 0, df_test['GarageCars'])\n",
    "df_test['GarageArea'] = np.where(df_test['GarageFinish'] == -1, 0, df_test['GarageArea'])\n",
    "df_test['GarageQual'] = np.where(df_test['GarageFinish'] == -1, -1, df_test['GarageQual'])\n",
    "df_test['GarageCond'] = np.where(df_test['GarageFinish'] == -1, -1, df_test['GarageCond'])\n",
    "\n",
    "\n",
    "df_test.fillna({'GarageYrBlt':df_test['GarageYrBlt'].median()}, inplace=True)    # 剩餘空值中位數補\n",
    "# print(df[df['GarageYrBlt'].isnull()==True])    # test"
   ]
  },
  {
   "cell_type": "code",
   "execution_count": 27,
   "metadata": {},
   "outputs": [],
   "source": [
    "# if FireplaceQu == -1: Fireplaces = 0 \n",
    "df_test['Fireplaces'] = np.where(df_test['FireplaceQu'] == -1, 0, df_test['Fireplaces'])"
   ]
  },
  {
   "cell_type": "code",
   "execution_count": 28,
   "metadata": {},
   "outputs": [],
   "source": [
    "# 空值視為沒有\n",
    "\n",
    "# if BsmtHalfBath == np.nan: BsmtHalfBath =0\n",
    "df_test.fillna({'BsmtHalfBath':0}, inplace=True)\n",
    "\n",
    "# if BsmtFullBath == np.nan: BsmtFullBath =0\n",
    "df_test.fillna({'BsmtFullBath':0}, inplace=True)"
   ]
  },
  {
   "cell_type": "code",
   "execution_count": 29,
   "metadata": {},
   "outputs": [],
   "source": [
    "# 沒有地下室，面積為零\n",
    "\n",
    "# 以中位數填空值\n",
    "df_test.fillna({'BsmtFinSF2':df_test['BsmtFinSF2'].median()}, inplace=True)\n",
    "\n",
    "# if BsmtFinType1 == -1: BsmtFinSF1 = 0  \n",
    "df_test['BsmtFinSF1'] = np.where(df_test['BsmtFinType1'] == -1, 0, df_test['BsmtFinSF1'])\n",
    "\n",
    "# if BsmtFinType2 == -1: BsmtFinSF12 = 0  \n",
    "df['BsmtFinSF2'] = np.where(df['BsmtFinType2'] == -1, 0, df['BsmtFinSF2'])\n",
    "\n",
    "df_test['TotalBsmtSF'] = np.where((df_test['BsmtFinType2'] == -1)&(df_test['BsmtFinType1'] == -1), 0, df_test['TotalBsmtSF'])\n",
    "df_test['BsmtUnfSF'] = np.where((df_test['BsmtFinType2'] == -1)&(df_test['BsmtFinType1'] == -1), 0, df_test['BsmtUnfSF'])\n",
    "df_test['BsmtFinSF1'] = np.where((df_test['BsmtFinType2'] == -1)&(df_test['BsmtFinType1'] == -1), 0, df_test['BsmtFinSF1'])"
   ]
  },
  {
   "cell_type": "markdown",
   "metadata": {},
   "source": [
    "## 3. 類別"
   ]
  },
  {
   "cell_type": "markdown",
   "metadata": {},
   "source": [
    "* one-hot-encoding:  \n",
    "        MSSubClass,  Street, LandContour, LotConfig, Neighborhood, Condition1, Condition2, RoofStyle, RoofMatl,  Foundation, Heating, CentralAir(只有2類), PavedDrive, MoSold, SaleCondition, YrSold, Electrical(FuseA, FuseF, FuseP有序; SBrkr, Mix無序。應拆分), HouseStyle  \n",
    "        \n",
    "* 有空值:    \n",
    "        MSZoning, MasVnrType, Functional, Exterior1st, Exterior2nd, SaleType  \n",
    "\n",
    "* NA is a category: \n",
    "        GarageType   "
   ]
  },
  {
   "cell_type": "code",
   "execution_count": 30,
   "metadata": {},
   "outputs": [],
   "source": [
    "#  'GarageType' 76筆空值為一類別\n",
    "\n",
    "NA_as_cat(df_test, ['GarageType'], fill_with=-1)\n",
    "\n",
    "# GarageType: 76 → 眾數填入\n",
    "df_test.fillna({'GarageType':df_test['GarageType'].mode()[0]}, inplace=True)\n",
    "# print(df[df['GarageType'].isnull()==True])    # test"
   ]
  },
  {
   "cell_type": "code",
   "execution_count": 31,
   "metadata": {},
   "outputs": [],
   "source": [
    "# 空值處理\n",
    "\n",
    "# SaleType: 1  → 歸類為其他\n",
    "df_test.fillna({'SaleType':'Oth'}, inplace=True)\n",
    "\n",
    "# MSZoning: 4  → 眾數填入\n",
    "df_test.fillna({'MSZoning':df['MSZoning'].mode()[0]}, inplace=True)\n",
    "# print(df_test[df_test['MSZoning'].isnull()==True])    # test\n"
   ]
  },
  {
   "cell_type": "code",
   "execution_count": 32,
   "metadata": {},
   "outputs": [],
   "source": [
    "# 空值處理\n",
    "\n",
    "# MasVnrType: 16  → 眾數填入\n",
    "df_test.fillna({'MasVnrType':df_test['MasVnrType'].mode()[0]}, inplace=True)\n",
    "# print(df_test[df_test['MasVnrType'].isnull()==True])    # test\n",
    "\n",
    "\n",
    "# MasVnrArea: 8 → if 'MasVnrType' is 'None', fill it with 0 , else fill it with mode\n",
    "df_test['MasVnrArea'] = np.where(df_test['MasVnrType'] == 'None', 0, df_test['MasVnrArea'])\n",
    "df_test.fillna({'MasVnrArea':df_test['MasVnrArea'].mode()[0]}, inplace=True)     \n",
    "# print(df_test[df_test['MasVnrArea'].isnull()==True])    # test"
   ]
  },
  {
   "cell_type": "code",
   "execution_count": 33,
   "metadata": {},
   "outputs": [],
   "source": [
    "# Functional: 2  \n",
    "df_test.fillna({'Functional':'Typ'}, inplace=True)\n",
    "# print(df_test[df_test['Functional'].isnull()==True])    # test"
   ]
  },
  {
   "cell_type": "code",
   "execution_count": 34,
   "metadata": {},
   "outputs": [],
   "source": [
    "\n",
    "# Exterior1st(mode)\n",
    "df_test.fillna({'Exterior1st':df_test['Exterior1st'].mode()[0]}, inplace=True)\n",
    "\n",
    "# Exterior2nd(mode)\n",
    "df_test.fillna({'Exterior2nd':df_test['Exterior2nd'].mode()[0]}, inplace=True)\n",
    "\n",
    "# Utilities(mode)\n",
    "df_test.fillna({'Utilities':df_test['Utilities'].mode()[0]}, inplace=True)\n",
    "\n",
    "# KitchenQual(mode)\n",
    "df_test.fillna({'KitchenQual':df_test['KitchenQual'].mode()[0]}, inplace=True)"
   ]
  },
  {
   "cell_type": "code",
   "execution_count": 35,
   "metadata": {},
   "outputs": [],
   "source": [
    "# MSZoning(多重複→移除)"
   ]
  },
  {
   "cell_type": "markdown",
   "metadata": {},
   "source": [
    "## 4. 其他"
   ]
  },
  {
   "cell_type": "markdown",
   "metadata": {},
   "source": [
    "* 刪除:  \n",
    "        Alley, PoolQC, Fence, MiscFeature  \n",
    " .  \n",
    "* 年份跨度大: \n",
    "        YearBuilt, YearRemodAdd, GarageYrBlt(has_null), "
   ]
  },
  {
   "cell_type": "code",
   "execution_count": 36,
   "metadata": {},
   "outputs": [
    {
     "data": {
      "text/html": [
       "<div>\n",
       "<style scoped>\n",
       "    .dataframe tbody tr th:only-of-type {\n",
       "        vertical-align: middle;\n",
       "    }\n",
       "\n",
       "    .dataframe tbody tr th {\n",
       "        vertical-align: top;\n",
       "    }\n",
       "\n",
       "    .dataframe thead th {\n",
       "        text-align: right;\n",
       "    }\n",
       "</style>\n",
       "<table border=\"1\" class=\"dataframe\">\n",
       "  <thead>\n",
       "    <tr style=\"text-align: right;\">\n",
       "      <th></th>\n",
       "      <th>duplicate</th>\n",
       "      <th>is_null</th>\n",
       "      <th>null_number</th>\n",
       "      <th>null_rate</th>\n",
       "      <th>type</th>\n",
       "    </tr>\n",
       "  </thead>\n",
       "  <tbody>\n",
       "    <tr>\n",
       "      <th>MSSubClass</th>\n",
       "      <td>16</td>\n",
       "      <td>False</td>\n",
       "      <td>0</td>\n",
       "      <td>0.000000</td>\n",
       "      <td>category</td>\n",
       "    </tr>\n",
       "    <tr>\n",
       "      <th>Neighborhood</th>\n",
       "      <td>25</td>\n",
       "      <td>False</td>\n",
       "      <td>0</td>\n",
       "      <td>0.000000</td>\n",
       "      <td>category</td>\n",
       "    </tr>\n",
       "    <tr>\n",
       "      <th>Exterior1st</th>\n",
       "      <td>14</td>\n",
       "      <td>True</td>\n",
       "      <td>1</td>\n",
       "      <td>0.000685</td>\n",
       "      <td>category</td>\n",
       "    </tr>\n",
       "    <tr>\n",
       "      <th>Exterior2nd</th>\n",
       "      <td>16</td>\n",
       "      <td>True</td>\n",
       "      <td>1</td>\n",
       "      <td>0.000685</td>\n",
       "      <td>category</td>\n",
       "    </tr>\n",
       "    <tr>\n",
       "      <th>MoSold</th>\n",
       "      <td>12</td>\n",
       "      <td>False</td>\n",
       "      <td>0</td>\n",
       "      <td>0.000000</td>\n",
       "      <td>category</td>\n",
       "    </tr>\n",
       "  </tbody>\n",
       "</table>\n",
       "</div>"
      ],
      "text/plain": [
       "              duplicate  is_null  null_number  null_rate      type\n",
       "MSSubClass           16    False            0   0.000000  category\n",
       "Neighborhood         25    False            0   0.000000  category\n",
       "Exterior1st          14     True            1   0.000685  category\n",
       "Exterior2nd          16     True            1   0.000685  category\n",
       "MoSold               12    False            0   0.000000  category"
      ]
     },
     "execution_count": 36,
     "metadata": {},
     "output_type": "execute_result"
    }
   ],
   "source": [
    "# 類別數大於10的類別型資料\n",
    "\n",
    "data_describe2[(data_describe2['duplicate']>10) & (data_describe2['type']=='category')]"
   ]
  },
  {
   "cell_type": "code",
   "execution_count": 37,
   "metadata": {},
   "outputs": [
    {
     "data": {
      "text/html": [
       "<div>\n",
       "<style scoped>\n",
       "    .dataframe tbody tr th:only-of-type {\n",
       "        vertical-align: middle;\n",
       "    }\n",
       "\n",
       "    .dataframe tbody tr th {\n",
       "        vertical-align: top;\n",
       "    }\n",
       "\n",
       "    .dataframe thead th {\n",
       "        text-align: right;\n",
       "    }\n",
       "</style>\n",
       "<table border=\"1\" class=\"dataframe\">\n",
       "  <thead>\n",
       "    <tr style=\"text-align: right;\">\n",
       "      <th></th>\n",
       "      <th>duplicate</th>\n",
       "      <th>is_null</th>\n",
       "      <th>null_number</th>\n",
       "      <th>null_rate</th>\n",
       "      <th>type</th>\n",
       "    </tr>\n",
       "  </thead>\n",
       "  <tbody>\n",
       "    <tr>\n",
       "      <th>Alley</th>\n",
       "      <td>3</td>\n",
       "      <td>True</td>\n",
       "      <td>1352</td>\n",
       "      <td>0.926662</td>\n",
       "      <td>numeric</td>\n",
       "    </tr>\n",
       "    <tr>\n",
       "      <th>PoolQC</th>\n",
       "      <td>3</td>\n",
       "      <td>True</td>\n",
       "      <td>1456</td>\n",
       "      <td>0.997944</td>\n",
       "      <td>numeric</td>\n",
       "    </tr>\n",
       "    <tr>\n",
       "      <th>Fence</th>\n",
       "      <td>5</td>\n",
       "      <td>True</td>\n",
       "      <td>1169</td>\n",
       "      <td>0.801234</td>\n",
       "      <td>numeric</td>\n",
       "    </tr>\n",
       "    <tr>\n",
       "      <th>MiscFeature</th>\n",
       "      <td>4</td>\n",
       "      <td>True</td>\n",
       "      <td>1408</td>\n",
       "      <td>0.965045</td>\n",
       "      <td>numeric</td>\n",
       "    </tr>\n",
       "  </tbody>\n",
       "</table>\n",
       "</div>"
      ],
      "text/plain": [
       "             duplicate  is_null  null_number  null_rate     type\n",
       "Alley                3     True         1352   0.926662  numeric\n",
       "PoolQC               3     True         1456   0.997944  numeric\n",
       "Fence                5     True         1169   0.801234  numeric\n",
       "MiscFeature          4     True         1408   0.965045  numeric"
      ]
     },
     "execution_count": 37,
     "metadata": {},
     "output_type": "execute_result"
    }
   ],
   "source": [
    "# check whether have null number left or not\n",
    "\n",
    "data_describe2_2 =dd.data_describe(df_test, 'numeric');\n",
    "data_describe2_2[data_describe2_2[\"is_null\"]==True]"
   ]
  },
  {
   "cell_type": "code",
   "execution_count": 38,
   "metadata": {},
   "outputs": [
    {
     "data": {
      "text/plain": [
       "(1459, 76)"
      ]
     },
     "execution_count": 38,
     "metadata": {},
     "output_type": "execute_result"
    }
   ],
   "source": [
    "# 刪除空職過多欄位\n",
    "df_test.drop(['Alley', 'PoolQC', 'Fence', 'MiscFeature'], inplace=True, axis=1)\n",
    "df_test.shape    # check"
   ]
  },
  {
   "cell_type": "markdown",
   "metadata": {},
   "source": [
    "## 5. 新增欄位"
   ]
  },
  {
   "cell_type": "code",
   "execution_count": null,
   "metadata": {},
   "outputs": [],
   "source": []
  },
  {
   "cell_type": "markdown",
   "metadata": {},
   "source": [
    "---"
   ]
  },
  {
   "cell_type": "markdown",
   "metadata": {},
   "source": [
    "# 轉存CSV _v2.1"
   ]
  },
  {
   "cell_type": "code",
   "execution_count": 39,
   "metadata": {},
   "outputs": [],
   "source": [
    "# 未攤平與標準化\n",
    "df.to_csv(path+data_name[0]+'_v2.1.csv', encoding='utf-8')\n",
    "df_test.to_csv(path+data_name[1]+'_v2.1.csv', encoding='utf-8')"
   ]
  },
  {
   "cell_type": "markdown",
   "metadata": {},
   "source": [
    "---"
   ]
  },
  {
   "cell_type": "markdown",
   "metadata": {},
   "source": [
    "# one-hot-encoing"
   ]
  },
  {
   "cell_type": "code",
   "execution_count": 40,
   "metadata": {},
   "outputs": [],
   "source": [
    "# tar_list = []\n",
    "\n",
    "# one_hot_encoding(df_test, tar_list, True)"
   ]
  },
  {
   "cell_type": "markdown",
   "metadata": {},
   "source": [
    "---"
   ]
  },
  {
   "cell_type": "markdown",
   "metadata": {},
   "source": [
    "# 標準化"
   ]
  },
  {
   "cell_type": "code",
   "execution_count": null,
   "metadata": {},
   "outputs": [],
   "source": []
  },
  {
   "cell_type": "markdown",
   "metadata": {},
   "source": [
    "---"
   ]
  },
  {
   "cell_type": "markdown",
   "metadata": {},
   "source": [
    "# 轉存CSV _v3.1"
   ]
  },
  {
   "cell_type": "code",
   "execution_count": 41,
   "metadata": {},
   "outputs": [],
   "source": [
    "# df.to_csv(path+data_name[0]+'_v3.1.csv', encoding='utf-8')\n",
    "# df_test.to_csv(path+data_name[1]+'_v3.1.csv', encoding='utf-8')"
   ]
  },
  {
   "cell_type": "code",
   "execution_count": null,
   "metadata": {},
   "outputs": [],
   "source": []
  },
  {
   "cell_type": "code",
   "execution_count": null,
   "metadata": {},
   "outputs": [],
   "source": []
  }
 ],
 "metadata": {
  "kernelspec": {
   "display_name": "Python 3",
   "language": "python",
   "name": "python3"
  },
  "language_info": {
   "codemirror_mode": {
    "name": "ipython",
    "version": 3
   },
   "file_extension": ".py",
   "mimetype": "text/x-python",
   "name": "python",
   "nbconvert_exporter": "python",
   "pygments_lexer": "ipython3",
   "version": "3.6.5"
  }
 },
 "nbformat": 4,
 "nbformat_minor": 2
}
