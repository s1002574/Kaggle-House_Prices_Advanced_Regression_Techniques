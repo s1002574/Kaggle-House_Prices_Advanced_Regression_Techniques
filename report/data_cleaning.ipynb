{
 "cells": [
  {
   "cell_type": "markdown",
   "metadata": {},
   "source": [
    "# Index"
   ]
  },
  {
   "cell_type": "code",
   "execution_count": 1,
   "metadata": {},
   "outputs": [
    {
     "name": "stderr",
     "output_type": "stream",
     "text": [
      "Using TensorFlow backend.\n"
     ]
    }
   ],
   "source": [
    "import gc\n",
    "gc.collect()\n",
    "\n",
    "import pandas as pd\n",
    "import numpy as np\n",
    "\n",
    "%matplotlib inline\n",
    "import matplotlib.pyplot as plt\n",
    "import seaborn as sns\n",
    "\n",
    "# the method write myself\n",
    "from my_toolbox import data_transform as dt\n",
    "from my_toolbox import data_describe as dd\n",
    "from my_toolbox import outlier \n",
    "from my_toolbox import corr_select as cs\n",
    "from my_toolbox import missing_value as mv\n",
    "from my_toolbox import stepwise\n"
   ]
  },
  {
   "cell_type": "code",
   "execution_count": 2,
   "metadata": {},
   "outputs": [],
   "source": [
    "path = '../data/'\n",
    "data_name = [\"train\", 'test', 'sample_submission']"
   ]
  },
  {
   "cell_type": "code",
   "execution_count": 3,
   "metadata": {},
   "outputs": [
    {
     "name": "stdout",
     "output_type": "stream",
     "text": [
      "(1460, 81)\n",
      "(1459, 80)\n",
      "(1459, 2)\n"
     ]
    }
   ],
   "source": [
    "df_train = pd.read_csv(\"{}{}.csv\".format(path,data_name[0]), encoding='utf8')\n",
    "print(df_train.shape)\n",
    "\n",
    "df_test = pd.read_csv(\"{}{}.csv\".format(path,data_name[1]), encoding='utf8')\n",
    "print(df_test.shape)\n",
    "\n",
    "df_submission = pd.read_csv(\"{}{}.csv\".format(path,data_name[2]), encoding='utf8')\n",
    "print(df_submission.shape)"
   ]
  },
  {
   "cell_type": "code",
   "execution_count": 4,
   "metadata": {},
   "outputs": [
    {
     "data": {
      "text/html": [
       "<div>\n",
       "<style scoped>\n",
       "    .dataframe tbody tr th:only-of-type {\n",
       "        vertical-align: middle;\n",
       "    }\n",
       "\n",
       "    .dataframe tbody tr th {\n",
       "        vertical-align: top;\n",
       "    }\n",
       "\n",
       "    .dataframe thead th {\n",
       "        text-align: right;\n",
       "    }\n",
       "</style>\n",
       "<table border=\"1\" class=\"dataframe\">\n",
       "  <thead>\n",
       "    <tr style=\"text-align: right;\">\n",
       "      <th></th>\n",
       "      <th>duplicate</th>\n",
       "      <th>is_null</th>\n",
       "      <th>null_number</th>\n",
       "      <th>null_rate(%)</th>\n",
       "    </tr>\n",
       "  </thead>\n",
       "  <tbody>\n",
       "    <tr>\n",
       "      <th>LotFrontage</th>\n",
       "      <td>111</td>\n",
       "      <td>True</td>\n",
       "      <td>259</td>\n",
       "      <td>17.74</td>\n",
       "    </tr>\n",
       "    <tr>\n",
       "      <th>Alley</th>\n",
       "      <td>3</td>\n",
       "      <td>True</td>\n",
       "      <td>1369</td>\n",
       "      <td>93.77</td>\n",
       "    </tr>\n",
       "    <tr>\n",
       "      <th>MasVnrType</th>\n",
       "      <td>5</td>\n",
       "      <td>True</td>\n",
       "      <td>8</td>\n",
       "      <td>0.55</td>\n",
       "    </tr>\n",
       "    <tr>\n",
       "      <th>MasVnrArea</th>\n",
       "      <td>328</td>\n",
       "      <td>True</td>\n",
       "      <td>8</td>\n",
       "      <td>0.55</td>\n",
       "    </tr>\n",
       "    <tr>\n",
       "      <th>BsmtQual</th>\n",
       "      <td>5</td>\n",
       "      <td>True</td>\n",
       "      <td>37</td>\n",
       "      <td>2.53</td>\n",
       "    </tr>\n",
       "    <tr>\n",
       "      <th>BsmtCond</th>\n",
       "      <td>5</td>\n",
       "      <td>True</td>\n",
       "      <td>37</td>\n",
       "      <td>2.53</td>\n",
       "    </tr>\n",
       "    <tr>\n",
       "      <th>BsmtExposure</th>\n",
       "      <td>5</td>\n",
       "      <td>True</td>\n",
       "      <td>38</td>\n",
       "      <td>2.60</td>\n",
       "    </tr>\n",
       "    <tr>\n",
       "      <th>BsmtFinType1</th>\n",
       "      <td>7</td>\n",
       "      <td>True</td>\n",
       "      <td>37</td>\n",
       "      <td>2.53</td>\n",
       "    </tr>\n",
       "    <tr>\n",
       "      <th>BsmtFinType2</th>\n",
       "      <td>7</td>\n",
       "      <td>True</td>\n",
       "      <td>38</td>\n",
       "      <td>2.60</td>\n",
       "    </tr>\n",
       "    <tr>\n",
       "      <th>Electrical</th>\n",
       "      <td>6</td>\n",
       "      <td>True</td>\n",
       "      <td>1</td>\n",
       "      <td>0.07</td>\n",
       "    </tr>\n",
       "    <tr>\n",
       "      <th>FireplaceQu</th>\n",
       "      <td>6</td>\n",
       "      <td>True</td>\n",
       "      <td>690</td>\n",
       "      <td>47.26</td>\n",
       "    </tr>\n",
       "    <tr>\n",
       "      <th>GarageType</th>\n",
       "      <td>7</td>\n",
       "      <td>True</td>\n",
       "      <td>81</td>\n",
       "      <td>5.55</td>\n",
       "    </tr>\n",
       "    <tr>\n",
       "      <th>GarageYrBlt</th>\n",
       "      <td>98</td>\n",
       "      <td>True</td>\n",
       "      <td>81</td>\n",
       "      <td>5.55</td>\n",
       "    </tr>\n",
       "    <tr>\n",
       "      <th>GarageFinish</th>\n",
       "      <td>4</td>\n",
       "      <td>True</td>\n",
       "      <td>81</td>\n",
       "      <td>5.55</td>\n",
       "    </tr>\n",
       "    <tr>\n",
       "      <th>GarageQual</th>\n",
       "      <td>6</td>\n",
       "      <td>True</td>\n",
       "      <td>81</td>\n",
       "      <td>5.55</td>\n",
       "    </tr>\n",
       "    <tr>\n",
       "      <th>GarageCond</th>\n",
       "      <td>6</td>\n",
       "      <td>True</td>\n",
       "      <td>81</td>\n",
       "      <td>5.55</td>\n",
       "    </tr>\n",
       "    <tr>\n",
       "      <th>PoolQC</th>\n",
       "      <td>4</td>\n",
       "      <td>True</td>\n",
       "      <td>1453</td>\n",
       "      <td>99.52</td>\n",
       "    </tr>\n",
       "    <tr>\n",
       "      <th>Fence</th>\n",
       "      <td>5</td>\n",
       "      <td>True</td>\n",
       "      <td>1179</td>\n",
       "      <td>80.75</td>\n",
       "    </tr>\n",
       "    <tr>\n",
       "      <th>MiscFeature</th>\n",
       "      <td>5</td>\n",
       "      <td>True</td>\n",
       "      <td>1406</td>\n",
       "      <td>96.30</td>\n",
       "    </tr>\n",
       "  </tbody>\n",
       "</table>\n",
       "</div>"
      ],
      "text/plain": [
       "              duplicate  is_null  null_number null_rate(%)\n",
       "LotFrontage         111     True          259        17.74\n",
       "Alley                 3     True         1369        93.77\n",
       "MasVnrType            5     True            8         0.55\n",
       "MasVnrArea          328     True            8         0.55\n",
       "BsmtQual              5     True           37         2.53\n",
       "BsmtCond              5     True           37         2.53\n",
       "BsmtExposure          5     True           38         2.60\n",
       "BsmtFinType1          7     True           37         2.53\n",
       "BsmtFinType2          7     True           38         2.60\n",
       "Electrical            6     True            1         0.07\n",
       "FireplaceQu           6     True          690        47.26\n",
       "GarageType            7     True           81         5.55\n",
       "GarageYrBlt          98     True           81         5.55\n",
       "GarageFinish          4     True           81         5.55\n",
       "GarageQual            6     True           81         5.55\n",
       "GarageCond            6     True           81         5.55\n",
       "PoolQC                4     True         1453        99.52\n",
       "Fence                 5     True         1179        80.75\n",
       "MiscFeature           5     True         1406        96.30"
      ]
     },
     "execution_count": 4,
     "metadata": {},
     "output_type": "execute_result"
    }
   ],
   "source": [
    "data_describe1 =dd.data_describe(df_train);\n",
    "data_describe2 = dd.data_describe(df_test);\n",
    "data_describe1[data_describe1.is_null==True]"
   ]
  },
  {
   "cell_type": "code",
   "execution_count": 5,
   "metadata": {},
   "outputs": [],
   "source": [
    "# define the types of columns\n",
    "\n",
    "category = ['MSSubClass', 'Street', 'LandContour', 'LotConfig', 'Neighborhood', 'HouseStyle', 'Condition1', 'Condition2',\n",
    "            'RoofStyle', 'RoofMatl', 'Foundation', 'Heating', 'CentralAir', 'PavedDrive', 'MoSold', 'SaleCondition',\n",
    "            'YrSold', 'Electrical', 'MSZoning', 'MasVnrType', 'Functional', 'Exterior1st', 'Exterior2nd', 'SaleType',\n",
    "            'GarageType','BldgType']\n",
    "\n",
    "numeric = ['SalePrice','LotArea', '1stFlrSF', '2ndFlrSF', 'LowQualFinSF', 'GrLivArea', 'FullBath', 'HalfBath', \n",
    "       'BedroomAbvGr', 'KitchenAbvGr', 'TotRmsAbvGrd', 'WoodDeckSF', 'OpenPorchSF', 'EnclosedPorch', \n",
    "       '3SsnPorch', 'ScreenPorch', 'PoolArea', 'MiscVal','LotFrontage', 'MasVnrArea', 'BsmtFinSF1', \n",
    "       'BsmtFinSF2', 'BsmtUnfSF', 'TotalBsmtSF', 'BsmtFullBath', 'BsmtHalfBath', 'Fireplaces',\n",
    "       'GarageCars', 'GarageArea']\n",
    "\n",
    "category_with_order = ['BsmtCond','LotShape', 'Utilities', 'LandSlope', 'OverallQual', 'OverallCond', \n",
    "                       'ExterQual', 'ExterCond', 'CentralAir', 'HeatingQC', 'BsmtQual', 'BsmtCond', 'BsmtExposure', \n",
    "                       'BsmtFinType1', 'BsmtFinType2', 'FireplaceQu', 'GarageFinish', 'GarageQual', 'GarageCond', \n",
    "                       'KitchenQual', 'Utilities']\n",
    "\n",
    "data_type_dict = {'category':category, 'category_with_order':category_with_order}\n",
    "\n",
    "# set the default type as numeric because df_test doesn't have column 'SalePrice'\n",
    "default_type = 'numeric'\n",
    "\n",
    "dd.data_type(data_describe1, default_type, data_type_dict)\n",
    "dd.data_type(data_describe2, default_type, data_type_dict)\n",
    "\n",
    "# data_describe1;\n",
    "# data_describe2;"
   ]
  },
  {
   "cell_type": "markdown",
   "metadata": {},
   "source": [
    "--- \n",
    "# Table: Train\n",
    "## 1. Category in order\n",
    "* Normal:   \n",
    "        LotShape, Utilities, LandSlope, OverallQual, OverallCond, ExterQual, ExterCond, CentralAir, HeatingQC, KitchenQual     \n",
    "* NA is a category:  \n",
    "        BsmtQual, BsmtCond, BsmtExposure, BsmtFinType1, BsmtFinType2, FireplaceQu, GarageFinish, GarageQual, GarageCond,"
   ]
  },
  {
   "cell_type": "code",
   "execution_count": 6,
   "metadata": {},
   "outputs": [
    {
     "data": {
      "text/plain": [
       "BsmtQual       False\n",
       "BsmtCond       False\n",
       "FireplaceQu    False\n",
       "GarageCond     False\n",
       "GarageQual     False\n",
       "dtype: bool"
      ]
     },
     "execution_count": 6,
     "metadata": {},
     "output_type": "execute_result"
    }
   ],
   "source": [
    "# NA is a category; conver null number as 'NA'\n",
    "\n",
    "tar_list = ['BsmtQual', 'BsmtCond', 'BsmtExposure', 'BsmtFinType1', 'BsmtFinType2', \n",
    "            'FireplaceQu', 'GarageFinish', 'GarageQual', 'GarageCond']\n",
    "\n",
    "dt.NA_as_cat(df_train, tar_list, 'NA')\n",
    "# ['BsmtQual', 'BsmtCond', 'FireplaceQu', 'GarageCond', 'GarageQual']\n",
    "df_train[['BsmtQual', 'BsmtCond', 'FireplaceQu', 'GarageCond', 'GarageQual']].isnull().any()"
   ]
  },
  {
   "cell_type": "code",
   "execution_count": 7,
   "metadata": {},
   "outputs": [],
   "source": [
    "# transformate order category as number between 0-1\n",
    "\n",
    "dt.order_cat_to_num(df_train,['ExterQual', 'ExterCond','HeatingQC', 'KitchenQual'],\n",
    "                    ['Po', 'Fa', 'TA', 'Gd', 'Ex'])\n",
    "dt.order_cat_to_num(df_train, ['BsmtQual','BsmtCond', 'GarageQual', 'GarageCond', 'FireplaceQu'],\n",
    "                    ['NA', 'Po', 'Fa', 'TA', 'Gd', 'Ex'])\n",
    "\n",
    "dt.order_cat_to_num(df_train, ['BsmtExposure'], ['NA', 'No', 'Mn', 'Av', 'Gd'])\n",
    "\n",
    "dt.order_cat_to_num(df_train, ['LotShape'], ['IR3', 'IR2', 'IR1', 'Reg'])\n",
    "\n",
    "dt.order_cat_to_num(df_train, ['Utilities'], ['ELO', 'NoSeWa', 'NoSewr', 'AllPub'])\n",
    "\n",
    "dt.order_cat_to_num(df_train, ['LandSlope'], ['Sev', 'Mod', 'Gtl'])\n",
    "\n",
    "dt.order_cat_to_num(df_train, ['OverallQual', 'OverallCond'], [1,2,3,4,5,6,7,8,9,10])\n",
    "\n",
    "dt.order_cat_to_num(df_train, ['GarageFinish'], ['NA', 'Unf', 'RFn', 'Fin'])\n",
    "\n",
    "dt.order_cat_to_num(df_train, ['BsmtFinType1','BsmtFinType2'], ['NA', 'Unf', 'LwQ', 'Rec', 'BLQ', 'ALQ', 'GLQ'])\n",
    "\n",
    "dt.order_cat_to_num(df_train, ['CentralAir'], ['N', 'Y'])"
   ]
  },
  {
   "cell_type": "markdown",
   "metadata": {},
   "source": [
    "[back to index](#Index)"
   ]
  },
  {
   "cell_type": "markdown",
   "metadata": {},
   "source": [
    "## 2. Numeric\n",
    "* Normal:   \n",
    "        SalePrice, LotArea, BsmtFinSF1, BsmtFinSF2, BsmtUnfSF, TotalBsmtSF, 1stFlrSF, 2ndFlrSF, LowQualFinSF, GrLivArea, BsmtFullBath, BsmtHalfBath, FullBath, HalfBath, BedroomAbvGr, KitchenAbvGr, TotRmsAbvGrd, Fireplaces, GarageCars, GarageArea, WoodDeckSF, OpenPorchSF, EnclosedPorch, 3SsnPorch, ScreenPorch, PoolArea, MiscVal    \n",
    "* With null number:    \n",
    "        LotFrontage, MasVnrArea, GarageYrBlt \n",
    "* drop the cloumns have too much null numbers:  \n",
    "        Alley, PoolQC, Fence, MiscFeature'\n",
    "* year's range is wilde -> take it as numeric\n",
    "        YearBuilt, YearRemodAdd, GarageYrBlt, "
   ]
  },
  {
   "cell_type": "code",
   "execution_count": 8,
   "metadata": {},
   "outputs": [],
   "source": [
    "# if FireplaceQu == np.nan: Fireplaces = 0 \n",
    "df_train['Fireplaces'] = np.where(df_train['FireplaceQu'] == 0,\n",
    "                                  0, df_train['Fireplaces'])"
   ]
  },
  {
   "cell_type": "code",
   "execution_count": 9,
   "metadata": {},
   "outputs": [],
   "source": [
    "# if BsmtHalfBath == np.nan: BsmtHalfBath =0\n",
    "df_train.fillna({'BsmtHalfBath':0}, inplace=True)\n",
    "\n",
    "# if BsmtFullBath == np.nan: BsmtFullBath =0\n",
    "df_train.fillna({'BsmtFullBath':0}, inplace=True)"
   ]
  },
  {
   "cell_type": "code",
   "execution_count": 10,
   "metadata": {},
   "outputs": [],
   "source": [
    "# if Functional == NULL: Functional = Typ\n",
    "df_train.fillna({'Functional':'Typ'}, inplace=True)"
   ]
  },
  {
   "cell_type": "code",
   "execution_count": 11,
   "metadata": {},
   "outputs": [],
   "source": [
    "# have no basement\n",
    "\n",
    "# if BsmtFinType1 == -1: BsmtFinSF1 = 0  \n",
    "df_train['BsmtFinSF1'] = np.where(df_train['BsmtFinType1'] == 0,\n",
    "                                  0, df_train['BsmtFinSF1'])\n",
    "\n",
    "# if BsmtFinType2 == -1: BsmtFinSF12 = 0  \n",
    "df_train['BsmtFinSF2'] = np.where(df_train['BsmtFinType2'] == 0,\n",
    "                                  0, df_train['BsmtFinSF2'])\n",
    "\n",
    "df_train['TotalBsmtSF'] = np.where(\n",
    "    (df_train['BsmtFinType2'] == 0)&(df_train['BsmtFinType1'] == 0),\n",
    "    0, df_train['TotalBsmtSF'])\n",
    "df_train['BsmtUnfSF'] = np.where(\n",
    "    (df_train['BsmtFinType2'] == 0)&(df_train['BsmtFinType1'] == 0),\n",
    "    0, df_train['BsmtUnfSF'])\n",
    "df_train['BsmtFinSF1'] = np.where(\n",
    "    (df_train['BsmtFinType2'] == 0)&(df_train['BsmtFinType1'] == 0),\n",
    "    0, df_train['BsmtFinSF1'])"
   ]
  },
  {
   "cell_type": "code",
   "execution_count": 12,
   "metadata": {},
   "outputs": [
    {
     "data": {
      "text/plain": [
       "(1460, 77)"
      ]
     },
     "execution_count": 12,
     "metadata": {},
     "output_type": "execute_result"
    }
   ],
   "source": [
    "# drop the cloumns which have too much null numbers\n",
    "df_train.drop(['Alley', 'PoolQC', 'Fence', 'MiscFeature'], inplace=True, axis=1)\n",
    "df_train.shape    # check"
   ]
  },
  {
   "cell_type": "code",
   "execution_count": 13,
   "metadata": {},
   "outputs": [
    {
     "name": "stdout",
     "output_type": "stream",
     "text": [
      "   BsmtFinSF2  LowQualFinSF  BsmtHalfBath  KitchenAbvGr  EnclosedPorch  \\\n",
      "0           0             0             0             1              0   \n",
      "1           0             0             1             1              0   \n",
      "2           0             0             0             1              0   \n",
      "3           0             0             0             1            272   \n",
      "4           0             0             0             1              0   \n",
      "\n",
      "   3SsnPorch  ScreenPorch  PoolArea  MiscVal  \n",
      "0          0            0         0        0  \n",
      "1          0            0         0        0  \n",
      "2          0            0         0        0  \n",
      "3          0            0         0        0  \n",
      "4          0            0         0        0  \n"
     ]
    }
   ],
   "source": [
    "# These columns has many zero. \n",
    "# if we just put it in Tukey_test to deal with outlier. it'll cause problems.\n",
    "\n",
    "print(df_train[['BsmtFinSF2', 'LowQualFinSF', 'BsmtHalfBath', 'KitchenAbvGr',\n",
    " 'EnclosedPorch', '3SsnPorch' , 'ScreenPorch', 'PoolArea', 'MiscVal']].head())"
   ]
  },
  {
   "cell_type": "code",
   "execution_count": 14,
   "metadata": {},
   "outputs": [
    {
     "name": "stderr",
     "output_type": "stream",
     "text": [
      "c:\\users\\student\\appdata\\local\\programs\\python\\python36\\lib\\site-packages\\numpy\\lib\\function_base.py:3652: RuntimeWarning: Invalid value encountered in percentile\n",
      "  interpolation=interpolation)\n"
     ]
    },
    {
     "name": "stdout",
     "output_type": "stream",
     "text": [
      "(1460, 77)\n",
      "\"SalePrice\" str numbers:0\n",
      "\"LotArea\" str numbers:0\n",
      "\"BsmtFinSF1\" str numbers:0\n",
      "\"BsmtUnfSF\" str numbers:0\n",
      "\"TotalBsmtSF\" str numbers:0\n",
      "\"1stFlrSF\" str numbers:0\n",
      "\"2ndFlrSF\" str numbers:0\n",
      "\"GrLivArea\" str numbers:0\n",
      "\"BsmtFullBath\" str numbers:0\n",
      "\"FullBath\" str numbers:0\n",
      "\"HalfBath\" str numbers:0\n",
      "\"BedroomAbvGr\" str numbers:0\n",
      "\"TotRmsAbvGrd\" str numbers:0\n",
      "\"Fireplaces\" str numbers:0\n",
      "\"GarageCars\" str numbers:0\n",
      "\"GarageArea\" str numbers:0\n",
      "\"WoodDeckSF\" str numbers:0\n",
      "\"OpenPorchSF\" str numbers:0\n",
      "\"LotFrontage\" str numbers:0\n",
      "\"MasVnrArea\" str numbers:0\n",
      "\"GarageYrBlt\" str numbers:0\n",
      "\"YearBuilt\" str numbers:0\n",
      "\"YearRemodAdd\" str numbers:0\n",
      "\"GarageYrBlt\" str numbers:0\n"
     ]
    }
   ],
   "source": [
    "# outlier\n",
    "tar_list=['SalePrice', 'LotArea', 'BsmtFinSF1', 'BsmtUnfSF', 'TotalBsmtSF', \n",
    "          '1stFlrSF', '2ndFlrSF', 'GrLivArea', 'BsmtFullBath', \n",
    "          'FullBath', 'HalfBath', 'BedroomAbvGr', 'TotRmsAbvGrd', 'Fireplaces',\n",
    "          'GarageCars', 'GarageArea', 'WoodDeckSF', 'OpenPorchSF',  \n",
    "          'LotFrontage', 'MasVnrArea', 'GarageYrBlt',\n",
    "         'YearBuilt', 'YearRemodAdd', 'GarageYrBlt']\n",
    "\n",
    "df_train_tmp = outlier.Tukey_test(df_train, tar_list, k=3)\n",
    "\n",
    "df_train[list(df_train_tmp.columns)] = df_train_tmp\n",
    "\n",
    "drop_columns = list(set(tar_list).difference(set(df_train_tmp.columns)))\n",
    "df_train.drop(drop_columns, inplace=True, axis=1)\n",
    "\n",
    "\n",
    "# print(df_train[tar_list].shape)\n",
    "# print(df_train[tar_list].columns)\n",
    "# print(df_train_tmp.shape)\n",
    "# print(df_train_tmp.columns)\n",
    "print(df_train.shape)\n",
    "\n",
    "# check whether it have string in columns\n",
    "for col in tar_list:\n",
    "    count = 0\n",
    "    for row in range(len(df_train[col])):\n",
    "        if type(df_train[col][row]) == 'str':\n",
    "            print(col, row)\n",
    "            count+=1\n",
    "    print('\"{}\" {} numbers:{}'.format(col,'str', count))\n"
   ]
  },
  {
   "cell_type": "code",
   "execution_count": 15,
   "metadata": {},
   "outputs": [
    {
     "name": "stderr",
     "output_type": "stream",
     "text": [
      "C:\\Users\\Student\\Desktop\\WorkSpace\\House Prices Advanced Regression Techniques\\report\\my_toolbox\\missing_value.py:38: FutureWarning: Method .as_matrix will be removed in a future version. Use .values instead.\n",
      "  df_filled_knn =pd.DataFrame(KNN(k=neighbourhood).fit_transform(df.as_matrix()))\n"
     ]
    },
    {
     "name": "stdout",
     "output_type": "stream",
     "text": [
      "Imputing row 1/1460 with 0 missing, elapsed time: 0.253\n",
      "Imputing row 101/1460 with 1 missing, elapsed time: 0.254\n",
      "Imputing row 201/1460 with 0 missing, elapsed time: 0.255\n",
      "Imputing row 301/1460 with 0 missing, elapsed time: 0.256\n",
      "Imputing row 401/1460 with 0 missing, elapsed time: 0.256\n",
      "Imputing row 501/1460 with 0 missing, elapsed time: 0.257\n",
      "Imputing row 601/1460 with 0 missing, elapsed time: 0.258\n",
      "Imputing row 701/1460 with 0 missing, elapsed time: 0.259\n",
      "Imputing row 801/1460 with 0 missing, elapsed time: 0.260\n",
      "Imputing row 901/1460 with 1 missing, elapsed time: 0.261\n",
      "Imputing row 1001/1460 with 0 missing, elapsed time: 0.262\n",
      "Imputing row 1101/1460 with 0 missing, elapsed time: 0.263\n",
      "Imputing row 1201/1460 with 0 missing, elapsed time: 0.263\n",
      "Imputing row 1301/1460 with 1 missing, elapsed time: 0.264\n",
      "Imputing row 1401/1460 with 0 missing, elapsed time: 0.265\n"
     ]
    },
    {
     "data": {
      "text/plain": [
       "LotFrontage    False\n",
       "MasVnrArea     False\n",
       "GarageYrBlt    False\n",
       "dtype: bool"
      ]
     },
     "execution_count": 15,
     "metadata": {},
     "output_type": "execute_result"
    }
   ],
   "source": [
    "# filled missing vales of  'LotFrontage', 'MasVnrArea', 'GarageYrBlt' by KNN \n",
    "\n",
    "df_train[['LotFrontage', 'MasVnrArea', 'GarageYrBlt']] = mv.fill_knn(\n",
    "    df_train[['LotFrontage', 'MasVnrArea', 'GarageYrBlt']], 5)\n",
    "\n",
    "# to check whether it has missing value or not\n",
    "df_train[['LotFrontage', 'MasVnrArea', 'GarageYrBlt']].isnull().any()"
   ]
  },
  {
   "cell_type": "code",
   "execution_count": 16,
   "metadata": {},
   "outputs": [
    {
     "data": {
      "text/plain": [
       "Text(0.5, 1.0, 'Correlation between numeric features')"
      ]
     },
     "execution_count": 16,
     "metadata": {},
     "output_type": "execute_result"
    },
    {
     "data": {
      "image/png": "[encoded data removed]",
      "text/plain": [
       "<Figure size 1440x1440 with 2 Axes>"
      ]
     },
     "metadata": {
      "needs_background": "light"
     },
     "output_type": "display_data"
    }
   ],
   "source": [
    "# the columns with many zeros\n",
    "tar_list.extend(['BsmtFinSF2', 'LowQualFinSF', 'BsmtHalfBath', 'KitchenAbvGr',\n",
    " 'EnclosedPorch', '3SsnPorch' , 'ScreenPorch', 'PoolArea', 'MiscVal'])\n",
    "# print(tar_list)\n",
    "\n",
    "# categories in order\n",
    "tar_list.extend(['LotShape', 'Utilities', 'LandSlope', 'OverallQual', 'OverallCond', \n",
    "                 'ExterQual', 'ExterCond', 'CentralAir', 'HeatingQC', 'KitchenQual',  \n",
    "                 'BsmtQual', 'BsmtCond', 'BsmtExposure', 'BsmtFinType1', 'BsmtFinType2', \n",
    "                 'FireplaceQu', 'GarageFinish', 'GarageQual', 'GarageCond'])\n",
    "\n",
    "# correlation table\n",
    "corr_table = df_train[tar_list].corr(method = 'spearman')\n",
    "# print(corr_table)\n",
    "\n",
    "# picture of correlation table\n",
    "fig = plt.figure()\n",
    "fig.set_figheight(20)\n",
    "fig.set_figwidth(20)\n",
    "\n",
    "g=sns.heatmap(corr_table, vmax=1, linewidths=0.01,\n",
    "            square=True,cmap='YlGnBu',linecolor=\"white\")\n",
    "plt.title('Correlation between numeric features')"
   ]
  },
  {
   "cell_type": "code",
   "execution_count": 17,
   "metadata": {},
   "outputs": [
    {
     "name": "stdout",
     "output_type": "stream",
     "text": [
      "correlation under 0.20.\n",
      " ['BsmtUnfSF', 'BsmtFinSF2', 'LowQualFinSF', 'BsmtHalfBath', 'KitchenAbvGr', '3SsnPorch', 'ScreenPorch', 'PoolArea', 'MiscVal', 'Utilities', 'LandSlope', 'OverallCond', 'ExterCond', 'BsmtFinType2']\n"
     ]
    }
   ],
   "source": [
    "drop_list=[]\n",
    "level = 0.2\n",
    "for i in tar_list:   # beside row_id and country_code\n",
    "    if abs(df_train['SalePrice'].corr(df_train[i], method = 'spearman')) < level:\n",
    "        drop_list.append(i)\n",
    "print('correlation under %.2f.\\n'%level,drop_list)\n",
    "\n",
    "# corr_select(df_train, 'SalePrice', 'spearman', level)\n",
    "# multicollinearity_prevent(df_train, 'SalePrice', 'spearman', 0.7)"
   ]
  },
  {
   "cell_type": "code",
   "execution_count": 18,
   "metadata": {},
   "outputs": [
    {
     "data": {
      "text/html": [
       "<div>\n",
       "<style scoped>\n",
       "    .dataframe tbody tr th:only-of-type {\n",
       "        vertical-align: middle;\n",
       "    }\n",
       "\n",
       "    .dataframe tbody tr th {\n",
       "        vertical-align: top;\n",
       "    }\n",
       "\n",
       "    .dataframe thead th {\n",
       "        text-align: right;\n",
       "    }\n",
       "</style>\n",
       "<table border=\"1\" class=\"dataframe\">\n",
       "  <thead>\n",
       "    <tr style=\"text-align: right;\">\n",
       "      <th></th>\n",
       "      <th>duplicate</th>\n",
       "      <th>is_null</th>\n",
       "      <th>null_number</th>\n",
       "      <th>null_rate(%)</th>\n",
       "      <th>type</th>\n",
       "    </tr>\n",
       "  </thead>\n",
       "  <tbody>\n",
       "    <tr>\n",
       "      <th>BldgType</th>\n",
       "      <td>5</td>\n",
       "      <td>False</td>\n",
       "      <td>0</td>\n",
       "      <td>0.00</td>\n",
       "      <td>category</td>\n",
       "    </tr>\n",
       "    <tr>\n",
       "      <th>HouseStyle</th>\n",
       "      <td>8</td>\n",
       "      <td>False</td>\n",
       "      <td>0</td>\n",
       "      <td>0.00</td>\n",
       "      <td>category</td>\n",
       "    </tr>\n",
       "  </tbody>\n",
       "</table>\n",
       "</div>"
      ],
      "text/plain": [
       "            duplicate  is_null  null_number null_rate(%)      type\n",
       "BldgType            5    False            0         0.00  category\n",
       "HouseStyle          8    False            0         0.00  category"
      ]
     },
     "execution_count": 18,
     "metadata": {},
     "output_type": "execute_result"
    }
   ],
   "source": [
    "\n",
    "data_describe1.loc[['BldgType','HouseStyle'],:]\n",
    "# data_describe1"
   ]
  },
  {
   "cell_type": "markdown",
   "metadata": {},
   "source": [
    "[back to index](#Index)"
   ]
  },
  {
   "cell_type": "markdown",
   "metadata": {},
   "source": [
    "## 3. Category\n",
    "* one-hot-encoding(24):  \n",
    "        MSSubClass, MSZoning, Street, LandContour, LotConfig, Neighborhood, Condition1, Condition2, RoofStyle, RoofMatl, Exterior1st, Exterior2nd, Foundation, Heating, CentralAir(只有2類), PavedDrive, MoSold, SaleType, SaleCondition, YrSold, HouseStyle  \n",
    "* Has null number(3):    \n",
    "        MasVnrType, Electrical(FuseA, FuseF, FuseP有序; SBrkr, Mix無序。應拆分), Functional,   \n",
    "* NA is a category(1): \n",
    "        GarageType   "
   ]
  },
  {
   "cell_type": "code",
   "execution_count": 19,
   "metadata": {},
   "outputs": [],
   "source": [
    "df_train.MSSubClass.apply(str);\n",
    "df_train.MoSold.apply(str);"
   ]
  },
  {
   "cell_type": "code",
   "execution_count": 20,
   "metadata": {},
   "outputs": [],
   "source": [
    "#  'GarageType' 76筆空值為一類別\n",
    "dt.NA_as_cat(df_train, ['GarageType'], fill_with='NA')"
   ]
  },
  {
   "cell_type": "markdown",
   "metadata": {},
   "source": [
    "### check category features' scatter with SalePrice"
   ]
  },
  {
   "cell_type": "code",
   "execution_count": 21,
   "metadata": {},
   "outputs": [
    {
     "data": {
      "text/html": [
       "<div>\n",
       "<style scoped>\n",
       "    .dataframe tbody tr th:only-of-type {\n",
       "        vertical-align: middle;\n",
       "    }\n",
       "\n",
       "    .dataframe tbody tr th {\n",
       "        vertical-align: top;\n",
       "    }\n",
       "\n",
       "    .dataframe thead th {\n",
       "        text-align: right;\n",
       "    }\n",
       "</style>\n",
       "<table border=\"1\" class=\"dataframe\">\n",
       "  <thead>\n",
       "    <tr style=\"text-align: right;\">\n",
       "      <th></th>\n",
       "      <th>duplicate</th>\n",
       "      <th>is_null</th>\n",
       "      <th>null_number</th>\n",
       "      <th>null_rate(%)</th>\n",
       "      <th>type</th>\n",
       "    </tr>\n",
       "  </thead>\n",
       "  <tbody>\n",
       "    <tr>\n",
       "      <th>MSSubClass</th>\n",
       "      <td>15</td>\n",
       "      <td>False</td>\n",
       "      <td>0</td>\n",
       "      <td>0.00</td>\n",
       "      <td>category</td>\n",
       "    </tr>\n",
       "    <tr>\n",
       "      <th>Neighborhood</th>\n",
       "      <td>25</td>\n",
       "      <td>False</td>\n",
       "      <td>0</td>\n",
       "      <td>0.00</td>\n",
       "      <td>category</td>\n",
       "    </tr>\n",
       "    <tr>\n",
       "      <th>Exterior1st</th>\n",
       "      <td>15</td>\n",
       "      <td>False</td>\n",
       "      <td>0</td>\n",
       "      <td>0.00</td>\n",
       "      <td>category</td>\n",
       "    </tr>\n",
       "    <tr>\n",
       "      <th>Exterior2nd</th>\n",
       "      <td>16</td>\n",
       "      <td>False</td>\n",
       "      <td>0</td>\n",
       "      <td>0.00</td>\n",
       "      <td>category</td>\n",
       "    </tr>\n",
       "    <tr>\n",
       "      <th>MoSold</th>\n",
       "      <td>12</td>\n",
       "      <td>False</td>\n",
       "      <td>0</td>\n",
       "      <td>0.00</td>\n",
       "      <td>category</td>\n",
       "    </tr>\n",
       "  </tbody>\n",
       "</table>\n",
       "</div>"
      ],
      "text/plain": [
       "              duplicate  is_null  null_number null_rate(%)      type\n",
       "MSSubClass           15    False            0         0.00  category\n",
       "Neighborhood         25    False            0         0.00  category\n",
       "Exterior1st          15    False            0         0.00  category\n",
       "Exterior2nd          16    False            0         0.00  category\n",
       "MoSold               12    False            0         0.00  category"
      ]
     },
     "execution_count": 21,
     "metadata": {},
     "output_type": "execute_result"
    }
   ],
   "source": [
    "# find out the columns with many duplicate categories\n",
    "\n",
    "# [YearBuilt, YearRemodAdd, GarageYrBlt] -> take them as numeric\n",
    "data_describe1[(data_describe1['duplicate']>10) & (data_describe1['type']=='category')]"
   ]
  },
  {
   "cell_type": "code",
   "execution_count": 22,
   "metadata": {},
   "outputs": [],
   "source": [
    "# dt.cat_plot(df_train, 'MasVnrType', 'SalePrice')\n",
    "\n",
    "# nan is not much fill it with mode\n",
    "df_train.fillna({'MasVnrType':df_train['MasVnrType'].mode()[0]}, inplace=True)"
   ]
  },
  {
   "cell_type": "code",
   "execution_count": 23,
   "metadata": {},
   "outputs": [],
   "source": [
    "# most of data gather in SBrkr. Maybe we should drop this column\n",
    "# dt.cat_plot(df_train, 'Electrical', 'SalePrice')\n",
    "\n",
    "# nan is not much fill it with mode\n",
    "df_train.fillna({'Electrical':df_train['Electrical'].mode()[0]}, inplace=True)"
   ]
  },
  {
   "cell_type": "code",
   "execution_count": 24,
   "metadata": {},
   "outputs": [],
   "source": [
    "# most of data gather in Typ and it's relationship with SalePrice is unclear\n",
    "# dt.cat_plot(df_train, 'Functional', 'SalePrice')\n",
    "\n",
    "# we should drop this column\n",
    "df_train.drop(['Functional'], inplace=True, axis=1)"
   ]
  },
  {
   "cell_type": "code",
   "execution_count": 25,
   "metadata": {},
   "outputs": [],
   "source": [
    "# most of data gather in Pave  \n",
    "# dt.cat_plot(df_train, 'Street', 'SalePrice')\n",
    "\n",
    "# we should drop this column\n",
    "df_train.drop(['Street'], inplace=True, axis=1)"
   ]
  },
  {
   "cell_type": "code",
   "execution_count": 26,
   "metadata": {},
   "outputs": [],
   "source": [
    "# scatter is unclear and most of them are gathering in Y\n",
    "# dt.cat_plot(df_train, 'PavedDrive', 'SalePrice')\n",
    "\n",
    "# we should drop this column\n",
    "df_train.drop(['PavedDrive'], inplace=True, axis=1)"
   ]
  },
  {
   "cell_type": "code",
   "execution_count": 27,
   "metadata": {},
   "outputs": [],
   "source": [
    "# scatter beteen years of saleprice is unclear \n",
    "# dt.cat_plot(df_train, 'YrSold', 'SalePrice')\n",
    "\n",
    "# we should drop this column\n",
    "df_train.drop(['YrSold'], inplace=True, axis=1)"
   ]
  },
  {
   "cell_type": "code",
   "execution_count": 28,
   "metadata": {},
   "outputs": [],
   "source": [
    "# scatter beteen years of saleprice is unclear \n",
    "# dt.cat_plot(df_train, 'LandContour', 'SalePrice')\n",
    "\n",
    "# we should drop this column\n",
    "df_train.drop(['LandContour'], inplace=True, axis=1)"
   ]
  },
  {
   "cell_type": "code",
   "execution_count": 29,
   "metadata": {},
   "outputs": [],
   "source": [
    "# scatter beteen years of saleprice is unclear \n",
    "# dt.cat_plot(df_train, 'LotConfig', 'SalePrice')\n",
    "\n",
    "# we should drop this column\n",
    "df_train.drop(['LotConfig'], inplace=True, axis=1)"
   ]
  },
  {
   "cell_type": "code",
   "execution_count": 30,
   "metadata": {},
   "outputs": [],
   "source": [
    "# scatter beteen years of saleprice is unclear \n",
    "# dt.cat_plot(df_train, 'RoofStyle', 'SalePrice')\n",
    "\n",
    "# we should drop this column\n",
    "df_train.drop(['RoofStyle'], inplace=True, axis=1)"
   ]
  },
  {
   "cell_type": "code",
   "execution_count": 31,
   "metadata": {},
   "outputs": [
    {
     "name": "stdout",
     "output_type": "stream",
     "text": [
      "(1460, 70)\n",
      "Index(['Id', 'MSSubClass', 'MSZoning', 'LotFrontage', 'LotArea', 'LotShape',\n",
      "       'Utilities', 'LandSlope', 'Neighborhood', 'Condition1', 'Condition2',\n",
      "       'BldgType', 'HouseStyle', 'OverallQual', 'OverallCond', 'YearBuilt',\n",
      "       'YearRemodAdd', 'RoofMatl', 'Exterior1st', 'Exterior2nd', 'MasVnrType',\n",
      "       'MasVnrArea', 'ExterQual', 'ExterCond', 'Foundation', 'BsmtQual',\n",
      "       'BsmtCond', 'BsmtExposure', 'BsmtFinType1', 'BsmtFinSF1',\n",
      "       'BsmtFinType2', 'BsmtFinSF2', 'BsmtUnfSF', 'TotalBsmtSF', 'Heating',\n",
      "       'HeatingQC', 'CentralAir', 'Electrical', '1stFlrSF', '2ndFlrSF',\n",
      "       'LowQualFinSF', 'GrLivArea', 'BsmtFullBath', 'BsmtHalfBath', 'FullBath',\n",
      "       'HalfBath', 'BedroomAbvGr', 'KitchenAbvGr', 'KitchenQual',\n",
      "       'TotRmsAbvGrd', 'Fireplaces', 'FireplaceQu', 'GarageType',\n",
      "       'GarageYrBlt', 'GarageFinish', 'GarageCars', 'GarageArea', 'GarageQual',\n",
      "       'GarageCond', 'WoodDeckSF', 'OpenPorchSF', 'EnclosedPorch', '3SsnPorch',\n",
      "       'ScreenPorch', 'PoolArea', 'MiscVal', 'MoSold', 'SaleType',\n",
      "       'SaleCondition', 'SalePrice'],\n",
      "      dtype='object')\n"
     ]
    },
    {
     "data": {
      "text/plain": [
       "False"
      ]
     },
     "execution_count": 31,
     "metadata": {},
     "output_type": "execute_result"
    }
   ],
   "source": [
    "# check df_train has null number or not\n",
    "print(df_train.shape)\n",
    "print(df_train.columns)\n",
    "df_train.isnull().any().any()"
   ]
  },
  {
   "cell_type": "markdown",
   "metadata": {},
   "source": [
    "[back to index](#Index)"
   ]
  },
  {
   "cell_type": "markdown",
   "metadata": {},
   "source": [
    "## undescide to drop or not "
   ]
  },
  {
   "cell_type": "raw",
   "metadata": {},
   "source": [
    "# most of data gather in Condition2  \n",
    "dt.cat_plot(df_train, 'Condition2', 'SalePrice')\n",
    "# df_train.drop(['Condition2'], inplace=True, axis=1)"
   ]
  },
  {
   "cell_type": "raw",
   "metadata": {},
   "source": [
    "# although the data are gathering in CompShg \n",
    "# but other class scatter are totally different between CompShg\n",
    "dt.cat_plot(df_train, 'RoofMatl', 'SalePrice')\n",
    "# df_train.drop(['RoofMatl'], inplace=True, axis=1)"
   ]
  },
  {
   "cell_type": "raw",
   "metadata": {},
   "source": [
    "dt.cat_plot(df_train, 'Heating', 'SalePrice')\n",
    "# df_train.drop(['Heating'], inplace=True, axis=1)"
   ]
  },
  {
   "cell_type": "raw",
   "metadata": {},
   "source": [
    "dt.cat_plot(df_train, 'CentralAir', 'SalePrice')\n",
    "# df_train.drop(['CentralAir'], inplace=True, axis=1)"
   ]
  },
  {
   "cell_type": "raw",
   "metadata": {},
   "source": [
    "dt.cat_plot(df_train, 'SaleType', 'SalePrice')\n",
    "# df_train.drop(['SaleType'], inplace=True, axis=1)"
   ]
  },
  {
   "cell_type": "raw",
   "metadata": {},
   "source": [
    "dt.cat_plot(df_train, 'SaleCondition', 'SalePrice')\n",
    "# df_train.drop(['SaleCondition'], inplace=True, axis=1)"
   ]
  },
  {
   "cell_type": "raw",
   "metadata": {},
   "source": [
    "dt.cat_plot(df_train, 'HouseStyle', 'SalePrice')\n",
    "# df_train.drop(['HouseStyle'], inplace=True, axis=1)"
   ]
  },
  {
   "cell_type": "markdown",
   "metadata": {},
   "source": [
    "[back to index](#Index)"
   ]
  },
  {
   "cell_type": "code",
   "execution_count": 32,
   "metadata": {},
   "outputs": [
    {
     "name": "stdout",
     "output_type": "stream",
     "text": [
      "(1460, 70) False\n",
      "(1460, 221) False\n",
      "Index(['Id', 'LotFrontage', 'LotArea', 'LotShape', 'Utilities', 'LandSlope',\n",
      "       'OverallQual', 'OverallCond', 'YearBuilt', 'YearRemodAdd',\n",
      "       ...\n",
      "       'Exterior2nd_HdBoard', 'Exterior2nd_ImStucc', 'Exterior2nd_MetalSd',\n",
      "       'Exterior2nd_Other', 'Exterior2nd_Plywood', 'Exterior2nd_Stone',\n",
      "       'Exterior2nd_Stucco', 'Exterior2nd_VinylSd', 'Exterior2nd_Wd Sdng',\n",
      "       'Exterior2nd_Wd Shng'],\n",
      "      dtype='object', length=221)\n"
     ]
    }
   ],
   "source": [
    "# step result\n",
    "\n",
    "print(df_train.shape, df_train.isnull().any().any())\n",
    "\n",
    "\n",
    "# one-hot encoding\n",
    "A = data_describe1[data_describe1['type']=='category'].index\n",
    "B = df_train.columns\n",
    "\n",
    "tar_col = set(A).intersection(set(B))\n",
    "\n",
    "df_train = dt.one_hot_encoding(df_train, tar_col, False)\n",
    "\n",
    "print(df_train.shape, df_train.isnull().any().any())\n",
    "print(df_train.columns)"
   ]
  },
  {
   "cell_type": "markdown",
   "metadata": {},
   "source": [
    "---"
   ]
  },
  {
   "cell_type": "raw",
   "metadata": {},
   "source": [
    "# feature select: stepwise    (Can't fucking work)\n",
    "\n",
    "model = stepwise.forward_selected(df_train, 'SalePrice')\n",
    "print(model.params.count())\n",
    "print(model.rsquared_adj)\n",
    "mask = list(model.params.index)\n",
    "mask.remove('Intercept')\n",
    "print(len(mask))\n",
    "mask"
   ]
  },
  {
   "cell_type": "markdown",
   "metadata": {},
   "source": [
    "---\n",
    "# Table: Test"
   ]
  },
  {
   "cell_type": "markdown",
   "metadata": {},
   "source": [
    "## 1. Category in order\n",
    "* Normal:   \n",
    "       LotShape, Utilities, LandSlope, OverallQual, OverallCond, ExterQual, ExterCond, CentralAir, HeatingQC     \n",
    "\n",
    "* NA is a category:  \n",
    "        BsmtQual, BsmtCond, BsmtExposure, BsmtFinType1, BsmtFinType2, FireplaceQu, GarageFinish, GarageQual, GarageCond, KitchenQual\n",
    "          \n",
    "* has null number:   \n",
    "        Utilities,"
   ]
  },
  {
   "cell_type": "code",
   "execution_count": 33,
   "metadata": {},
   "outputs": [],
   "source": [
    "# NA is a category; conver null number as 'NA'\n",
    "\n",
    "tar_list = ['BsmtQual', 'BsmtCond', 'BsmtExposure', 'BsmtFinType1', 'BsmtFinType2', \n",
    "            'FireplaceQu', 'GarageFinish', 'GarageQual', 'GarageCond']\n",
    "\n",
    "dt.NA_as_cat(df_test, tar_list, 'NA')"
   ]
  },
  {
   "cell_type": "code",
   "execution_count": 34,
   "metadata": {},
   "outputs": [],
   "source": [
    "#   'Utilities' has only two null numbers, fil it with mode\n",
    "df_test.fillna({'Utilities':df_test['Utilities'].mode()[0]}, inplace=True)\n",
    "# print(df_test[df_test['Utilities'].isnull()==True])    # test"
   ]
  },
  {
   "cell_type": "code",
   "execution_count": 35,
   "metadata": {},
   "outputs": [],
   "source": [
    "# transformate order category as number between 0-1\n",
    "\n",
    "dt.order_cat_to_num(df_test,['ExterQual', 'ExterCond','HeatingQC', 'KitchenQual'],\n",
    "                    ['Po', 'Fa', 'TA', 'Gd', 'Ex'])\n",
    "dt.order_cat_to_num(df_test, ['BsmtQual','BsmtCond', 'GarageQual', 'GarageCond', 'FireplaceQu'],\n",
    "                    ['NA', 'Po', 'Fa', 'TA', 'Gd', 'Ex'])\n",
    "\n",
    "dt.order_cat_to_num(df_test, ['BsmtExposure'], ['NA', 'No', 'Mn', 'Av', 'Gd'])\n",
    "\n",
    "dt.order_cat_to_num(df_test, ['LotShape'], ['IR3', 'IR2', 'IR1', 'Reg'])\n",
    "\n",
    "dt.order_cat_to_num(df_test, ['Utilities'], ['ELO', 'NoSeWa', 'NoSewr', 'AllPub'])\n",
    "\n",
    "dt.order_cat_to_num(df_test, ['LandSlope'], ['Sev', 'Mod', 'Gtl'])\n",
    "\n",
    "dt.order_cat_to_num(df_test, ['OverallQual', 'OverallCond'], [1,2,3,4,5,6,7,8,9,10])\n",
    "\n",
    "dt.order_cat_to_num(df_test, ['GarageFinish'], ['NA', 'Unf', 'RFn', 'Fin'])\n",
    "\n",
    "dt.order_cat_to_num(df_test, ['BsmtFinType1','BsmtFinType2'], ['NA', 'Unf', 'LwQ', 'Rec', 'BLQ', 'ALQ', 'GLQ'])\n",
    "\n",
    "dt.order_cat_to_num(df_test, ['CentralAir'], ['N', 'Y'])"
   ]
  },
  {
   "cell_type": "markdown",
   "metadata": {},
   "source": [
    "## 2. Numeric\n",
    "* Normal:   \n",
    "        SalePrice, LotArea, 1stFlrSF, 2ndFlrSF, LowQualFinSF, GrLivArea, FullBath, HalfBath, BedroomAbvGr, KitchenAbvGr, TotRmsAbvGrd, WoodDeckSF, OpenPorchSF, EnclosedPorch, 3SsnPorch, ScreenPorch, PoolArea, MiscVal    \n",
    "* has null numbers:    \n",
    "        LotFrontage, MasVnrArea, BsmtFinSF1, BsmtFinSF2, BsmtUnfSF, TotalBsmtSF, BsmtFullBath, BsmtHalfBath, Fireplaces, GarageCars, GarageArea\n",
    "* drop the cloumns have too much null numbers:  \n",
    "        Alley, PoolQC, Fence, MiscFeature'\n",
    "* year's range is wilde -> take it as numeric\n",
    "        YearBuilt, YearRemodAdd, GarageYrBlt, "
   ]
  },
  {
   "cell_type": "code",
   "execution_count": 36,
   "metadata": {},
   "outputs": [],
   "source": [
    "# if FireplaceQu == -1: Fireplaces = 0 \n",
    "df_test['Fireplaces'] = np.where(df_test['FireplaceQu'] == 0,\n",
    "                                 0, df_test['Fireplaces'])"
   ]
  },
  {
   "cell_type": "code",
   "execution_count": 37,
   "metadata": {},
   "outputs": [],
   "source": [
    "# if BsmtHalfBath == np.nan: BsmtHalfBath =0\n",
    "df_test.fillna({'BsmtHalfBath':0}, inplace=True)\n",
    "\n",
    "# if BsmtFullBath == np.nan: BsmtFullBath =0\n",
    "df_test.fillna({'BsmtFullBath':0}, inplace=True)"
   ]
  },
  {
   "cell_type": "code",
   "execution_count": 38,
   "metadata": {},
   "outputs": [],
   "source": [
    "# if BsmtFinType1 == np.nan: BsmtFinSF1 = 0  \n",
    "df_test['BsmtFinSF1'] = np.where(df_test['BsmtFinType1'] == 0,\n",
    "                                 0, df_test['BsmtFinSF1'])\n",
    "\n",
    "# if BsmtFinType2 == np.nan: BsmtFinSF12 = 0  \n",
    "df_test['BsmtFinSF2'] = np.where(df_test['BsmtFinType2'] == 0, 0, df_test['BsmtFinSF2'])\n",
    "\n",
    "df_test['TotalBsmtSF'] = np.where(\n",
    "    (df_test['BsmtFinType2'] == 0)&(df_test['BsmtFinType1'] == 0),\n",
    "    0, df_test['TotalBsmtSF'])\n",
    "df_test['BsmtUnfSF'] = np.where(\n",
    "    (df_test['BsmtFinType2'] == 0)&(df_test['BsmtFinType1'] == 0),\n",
    "    0, df_test['BsmtUnfSF'])\n",
    "df_test['BsmtFinSF1'] = np.where(\n",
    "    (df_test['BsmtFinType2'] == 0)&(df_test['BsmtFinType1'] == 0),\n",
    "    0, df_test['BsmtFinSF1'])"
   ]
  },
  {
   "cell_type": "code",
   "execution_count": 39,
   "metadata": {},
   "outputs": [],
   "source": [
    "# if Functional == NULL: Functional = Typ\n",
    "df_test.fillna({'Functional':'Typ'}, inplace=True)"
   ]
  },
  {
   "cell_type": "code",
   "execution_count": 40,
   "metadata": {},
   "outputs": [
    {
     "name": "stdout",
     "output_type": "stream",
     "text": [
      "(1459, 80)\n"
     ]
    },
    {
     "data": {
      "text/plain": [
       "(1459, 76)"
      ]
     },
     "execution_count": 40,
     "metadata": {},
     "output_type": "execute_result"
    }
   ],
   "source": [
    "# drop the cloumns which have too much null numbers\n",
    "print(df_test.shape)\n",
    "df_test.drop(['Alley', 'PoolQC', 'Fence', 'MiscFeature'], inplace=True, axis=1)\n",
    "df_test.shape    # check"
   ]
  },
  {
   "cell_type": "code",
   "execution_count": 41,
   "metadata": {},
   "outputs": [
    {
     "name": "stdout",
     "output_type": "stream",
     "text": [
      "   BsmtFinSF2  LowQualFinSF  BsmtHalfBath  KitchenAbvGr  EnclosedPorch  \\\n",
      "0       144.0             0           0.0             1              0   \n",
      "1         0.0             0           0.0             1              0   \n",
      "2         0.0             0           0.0             1              0   \n",
      "3         0.0             0           0.0             1              0   \n",
      "4         0.0             0           0.0             1              0   \n",
      "\n",
      "   3SsnPorch  ScreenPorch  PoolArea  MiscVal  \n",
      "0          0          120         0        0  \n",
      "1          0            0         0    12500  \n",
      "2          0            0         0        0  \n",
      "3          0            0         0        0  \n",
      "4          0          144         0        0  \n"
     ]
    }
   ],
   "source": [
    "# These columns has many zero. \n",
    "# if we just put it in Tukey_test to deal with outlier. it'll cause problems.\n",
    "\n",
    "print(df_test[['BsmtFinSF2', 'LowQualFinSF', 'BsmtHalfBath', 'KitchenAbvGr',\n",
    " 'EnclosedPorch', '3SsnPorch' , 'ScreenPorch', 'PoolArea', 'MiscVal']].head())"
   ]
  },
  {
   "cell_type": "code",
   "execution_count": 42,
   "metadata": {},
   "outputs": [
    {
     "name": "stdout",
     "output_type": "stream",
     "text": [
      "(1459, 76)\n",
      "\"LotArea\" str numbers:0\n",
      "\"BsmtFinSF1\" str numbers:0\n",
      "\"BsmtUnfSF\" str numbers:0\n",
      "\"TotalBsmtSF\" str numbers:0\n"
     ]
    },
    {
     "name": "stderr",
     "output_type": "stream",
     "text": [
      "c:\\users\\student\\appdata\\local\\programs\\python\\python36\\lib\\site-packages\\numpy\\lib\\function_base.py:3652: RuntimeWarning: Invalid value encountered in percentile\n",
      "  interpolation=interpolation)\n"
     ]
    },
    {
     "name": "stdout",
     "output_type": "stream",
     "text": [
      "\"1stFlrSF\" str numbers:0\n",
      "\"2ndFlrSF\" str numbers:0\n",
      "\"GrLivArea\" str numbers:0\n",
      "\"BsmtFullBath\" str numbers:0\n",
      "\"FullBath\" str numbers:0\n",
      "\"HalfBath\" str numbers:0\n",
      "\"BedroomAbvGr\" str numbers:0\n",
      "\"TotRmsAbvGrd\" str numbers:0\n",
      "\"Fireplaces\" str numbers:0\n",
      "\"GarageCars\" str numbers:0\n",
      "\"GarageArea\" str numbers:0\n",
      "\"WoodDeckSF\" str numbers:0\n",
      "\"OpenPorchSF\" str numbers:0\n",
      "\"LotFrontage\" str numbers:0\n",
      "\"MasVnrArea\" str numbers:0\n",
      "\"GarageYrBlt\" str numbers:0\n",
      "\"YearBuilt\" str numbers:0\n",
      "\"YearRemodAdd\" str numbers:0\n",
      "\"GarageYrBlt\" str numbers:0\n"
     ]
    }
   ],
   "source": [
    "# outlier\n",
    "tar_list=['LotArea', 'BsmtFinSF1', 'BsmtUnfSF', 'TotalBsmtSF', \n",
    "          '1stFlrSF', '2ndFlrSF', 'GrLivArea', 'BsmtFullBath', \n",
    "          'FullBath', 'HalfBath', 'BedroomAbvGr', 'TotRmsAbvGrd', 'Fireplaces',\n",
    "          'GarageCars', 'GarageArea', 'WoodDeckSF', 'OpenPorchSF',  \n",
    "          'LotFrontage', 'MasVnrArea', 'GarageYrBlt',\n",
    "         'YearBuilt', 'YearRemodAdd', 'GarageYrBlt']\n",
    "\n",
    "df_test_tmp = outlier.Tukey_test(df_test, tar_list, k=3)\n",
    "\n",
    "df_test[list(df_test_tmp.columns)] = df_test_tmp\n",
    "\n",
    "# drop_columns = list(set(tar_list).difference(set(df_test_tmp.columns)))\n",
    "# df_test.drop(drop_columns, inplace=True, axis=1)\n",
    "\n",
    "\n",
    "# print(df_test[tar_list].shape)\n",
    "# print(df_test[tar_list].columns)\n",
    "# print(df_test_tmp.shape)\n",
    "# print(df_test_tmp.columns)\n",
    "print(df_test.shape)\n",
    "\n",
    "# check whether it have string in columns\n",
    "for col in tar_list:\n",
    "    count = 0\n",
    "    for row in range(len(df_test[col])):\n",
    "        if type(df_test[col][row]) == 'str':\n",
    "            print(col, row)\n",
    "            count+=1\n",
    "    print('\"{}\" {} numbers:{}'.format(col,'str', count))"
   ]
  },
  {
   "cell_type": "code",
   "execution_count": 43,
   "metadata": {},
   "outputs": [
    {
     "name": "stderr",
     "output_type": "stream",
     "text": [
      "C:\\Users\\Student\\Desktop\\WorkSpace\\House Prices Advanced Regression Techniques\\report\\my_toolbox\\missing_value.py:38: FutureWarning: Method .as_matrix will be removed in a future version. Use .values instead.\n",
      "  df_filled_knn =pd.DataFrame(KNN(k=neighbourhood).fit_transform(df.as_matrix()))\n"
     ]
    },
    {
     "name": "stdout",
     "output_type": "stream",
     "text": [
      "Imputing row 1/1459 with 0 missing, elapsed time: 0.324\n",
      "Imputing row 101/1459 with 1 missing, elapsed time: 0.325\n",
      "Imputing row 201/1459 with 0 missing, elapsed time: 0.326\n",
      "Imputing row 301/1459 with 0 missing, elapsed time: 0.327\n",
      "Imputing row 401/1459 with 0 missing, elapsed time: 0.327\n",
      "Imputing row 501/1459 with 0 missing, elapsed time: 0.328\n",
      "Imputing row 601/1459 with 0 missing, elapsed time: 0.329\n",
      "Imputing row 701/1459 with 0 missing, elapsed time: 0.329\n",
      "Imputing row 801/1459 with 0 missing, elapsed time: 0.330\n",
      "Imputing row 901/1459 with 0 missing, elapsed time: 0.331\n",
      "Imputing row 1001/1459 with 0 missing, elapsed time: 0.331\n",
      "Imputing row 1101/1459 with 0 missing, elapsed time: 0.332\n",
      "Imputing row 1201/1459 with 0 missing, elapsed time: 0.333\n",
      "Imputing row 1301/1459 with 0 missing, elapsed time: 0.335\n",
      "Imputing row 1401/1459 with 0 missing, elapsed time: 0.335\n"
     ]
    },
    {
     "data": {
      "text/plain": [
       "LotFrontage     False\n",
       "MasVnrArea      False\n",
       "BsmtFinSF1      False\n",
       "BsmtFinSF2      False\n",
       "BsmtUnfSF       False\n",
       "TotalBsmtSF     False\n",
       "BsmtFullBath    False\n",
       "BsmtHalfBath    False\n",
       "Fireplaces      False\n",
       "GarageCars      False\n",
       "GarageArea      False\n",
       "GarageYrBlt     False\n",
       "dtype: bool"
      ]
     },
     "execution_count": 43,
     "metadata": {},
     "output_type": "execute_result"
    }
   ],
   "source": [
    "# filled missing vales of  'LotFrontage', 'MasVnrArea', 'GarageYrBlt' by KNN \n",
    "null_list = ['LotFrontage', 'MasVnrArea', 'BsmtFinSF1', 'BsmtFinSF2', 'BsmtUnfSF',\n",
    "            'TotalBsmtSF', 'BsmtFullBath', 'BsmtHalfBath', 'Fireplaces', 'GarageCars',\n",
    "            'GarageArea', 'GarageYrBlt']\n",
    "\n",
    "df_test[null_list] = mv.fill_knn(df_test[null_list], 5)\n",
    "\n",
    "# to check whether it has missing value or not\n",
    "df_test[null_list].isnull().any()"
   ]
  },
  {
   "cell_type": "markdown",
   "metadata": {},
   "source": [
    "## 3. Category\n",
    "* one-hot-encoding:  \n",
    "        MSSubClass,  Street, LandContour, LotConfig, Neighborhood, Condition1, Condition2, RoofStyle, RoofMatl,  Foundation, Heating, CentralAir(只有2類), PavedDrive, MoSold, SaleCondition, YrSold, Electrical(FuseA, FuseF, FuseP有序; SBrkr, Mix無序。應拆分), HouseStyle  \n",
    "        \n",
    "* 有空值:    \n",
    "        MSZoning, MasVnrType, Functional, Exterior1st, Exterior2nd, SaleType  \n",
    "\n",
    "* NA is a category: \n",
    "        GarageType "
   ]
  },
  {
   "cell_type": "code",
   "execution_count": 44,
   "metadata": {},
   "outputs": [],
   "source": [
    "df_test.MSSubClass.apply(str);\n",
    "df_test.MoSold.apply(str);"
   ]
  },
  {
   "cell_type": "code",
   "execution_count": 45,
   "metadata": {},
   "outputs": [
    {
     "name": "stdout",
     "output_type": "stream",
     "text": [
      "76\n",
      "0\n"
     ]
    }
   ],
   "source": [
    "print(df_test['GarageType'].isnull().sum())\n",
    "# df_test[df_test['GarageType']==0]\n",
    "\n",
    "# null means has no Garage\n",
    "dt.NA_as_cat(df_test, ['GarageType'], fill_with='NA')\n",
    "print(df_test['GarageType'].isnull().sum())"
   ]
  },
  {
   "cell_type": "code",
   "execution_count": 46,
   "metadata": {},
   "outputs": [],
   "source": [
    "# SaleType only has 1 null number, make it be Other\n",
    "df_test.fillna({'SaleType':'Oth'}, inplace=True)"
   ]
  },
  {
   "cell_type": "code",
   "execution_count": 47,
   "metadata": {},
   "outputs": [
    {
     "name": "stdout",
     "output_type": "stream",
     "text": [
      "4\n",
      "16\n",
      "0\n"
     ]
    }
   ],
   "source": [
    "# MSZoning: 4  → fill with mode\n",
    "print(df_test.MSZoning.isnull().sum())\n",
    "df_test.fillna({'MSZoning':df_test['MSZoning'].mode()[0]}, inplace=True)\n",
    "\n",
    "# MasVnrType: 16  → fill with mode\n",
    "print(df_test.MasVnrType.isnull().sum())\n",
    "df_test.fillna({'MasVnrType':df_test['MasVnrType'].mode()[0]}, inplace=True)\n",
    "\n",
    "\n",
    "# MasVnrArea: 8 → if 'MasVnrType' is 'None', fill it with 0 , else fill it with mode\n",
    "df_test['MasVnrArea'] = np.where(df_test['MasVnrType'] == 'None', 0, df_test['MasVnrArea'])\n",
    "print(df_test.MasVnrType.isnull().sum())\n",
    "df_test.fillna({'MasVnrArea':df_test['MasVnrArea'].mode()[0]}, inplace=True) "
   ]
  },
  {
   "cell_type": "code",
   "execution_count": 48,
   "metadata": {},
   "outputs": [
    {
     "name": "stdout",
     "output_type": "stream",
     "text": [
      "0\n"
     ]
    }
   ],
   "source": [
    "# Functional: 2  \n",
    "print(df_test.Functional.isnull().sum())\n",
    "df_test.fillna({'Functional':'Typ'}, inplace=True)"
   ]
  },
  {
   "cell_type": "code",
   "execution_count": 49,
   "metadata": {},
   "outputs": [
    {
     "name": "stdout",
     "output_type": "stream",
     "text": [
      "1\n",
      "1\n",
      "0\n",
      "1\n"
     ]
    }
   ],
   "source": [
    "# Exterior1st → fill with mode\n",
    "print(df_test.Exterior1st.isnull().sum())\n",
    "df_test.fillna({'Exterior1st':df_test['Exterior1st'].mode()[0]}, inplace=True)\n",
    "\n",
    "# Exterior2nd → fill with mode\n",
    "print(df_test.Exterior2nd.isnull().sum())\n",
    "df_test.fillna({'Exterior2nd':df_test['Exterior2nd'].mode()[0]}, inplace=True)\n",
    "\n",
    "# Utilities → fill with mode\n",
    "print(df_test.Utilities.isnull().sum())\n",
    "df_test.fillna({'Utilities':df_test['Utilities'].mode()[0]}, inplace=True)\n",
    "\n",
    "# KitchenQual → fill with mode\n",
    "print(df_test.KitchenQual.isnull().sum())\n",
    "df_test.fillna({'KitchenQual':df_test['KitchenQual'].mode()[0]}, inplace=True)"
   ]
  },
  {
   "cell_type": "code",
   "execution_count": 50,
   "metadata": {},
   "outputs": [
    {
     "name": "stdout",
     "output_type": "stream",
     "text": [
      "(1459, 76)\n",
      "Index(['Id', 'MSSubClass', 'MSZoning', 'LotFrontage', 'LotArea', 'Street',\n",
      "       'LotShape', 'LandContour', 'Utilities', 'LotConfig', 'LandSlope',\n",
      "       'Neighborhood', 'Condition1', 'Condition2', 'BldgType', 'HouseStyle',\n",
      "       'OverallQual', 'OverallCond', 'YearBuilt', 'YearRemodAdd', 'RoofStyle',\n",
      "       'RoofMatl', 'Exterior1st', 'Exterior2nd', 'MasVnrType', 'MasVnrArea',\n",
      "       'ExterQual', 'ExterCond', 'Foundation', 'BsmtQual', 'BsmtCond',\n",
      "       'BsmtExposure', 'BsmtFinType1', 'BsmtFinSF1', 'BsmtFinType2',\n",
      "       'BsmtFinSF2', 'BsmtUnfSF', 'TotalBsmtSF', 'Heating', 'HeatingQC',\n",
      "       'CentralAir', 'Electrical', '1stFlrSF', '2ndFlrSF', 'LowQualFinSF',\n",
      "       'GrLivArea', 'BsmtFullBath', 'BsmtHalfBath', 'FullBath', 'HalfBath',\n",
      "       'BedroomAbvGr', 'KitchenAbvGr', 'KitchenQual', 'TotRmsAbvGrd',\n",
      "       'Functional', 'Fireplaces', 'FireplaceQu', 'GarageType', 'GarageYrBlt',\n",
      "       'GarageFinish', 'GarageCars', 'GarageArea', 'GarageQual', 'GarageCond',\n",
      "       'PavedDrive', 'WoodDeckSF', 'OpenPorchSF', 'EnclosedPorch', '3SsnPorch',\n",
      "       'ScreenPorch', 'PoolArea', 'MiscVal', 'MoSold', 'YrSold', 'SaleType',\n",
      "       'SaleCondition'],\n",
      "      dtype='object')\n"
     ]
    },
    {
     "data": {
      "text/plain": [
       "False"
      ]
     },
     "execution_count": 50,
     "metadata": {},
     "output_type": "execute_result"
    }
   ],
   "source": [
    "# step result\n",
    "\n",
    "print(df_test.shape)\n",
    "print(df_test.columns)\n",
    "df_test.isnull().any().any()"
   ]
  },
  {
   "cell_type": "code",
   "execution_count": 51,
   "metadata": {},
   "outputs": [
    {
     "name": "stdout",
     "output_type": "stream",
     "text": [
      "(1459, 239) False\n",
      "Index(['Id', 'LotFrontage', 'LotArea', 'LotShape', 'Utilities', 'LandSlope',\n",
      "       'OverallQual', 'OverallCond', 'YearBuilt', 'YearRemodAdd',\n",
      "       ...\n",
      "       'Foundation_PConc', 'Foundation_Slab', 'Foundation_Stone',\n",
      "       'Foundation_Wood', 'Heating_GasA', 'Heating_GasW', 'Heating_Grav',\n",
      "       'Heating_Wall', 'Street_Grvl', 'Street_Pave'],\n",
      "      dtype='object', length=239)\n"
     ]
    }
   ],
   "source": [
    "# one-hot encoding\n",
    "A = data_describe2[data_describe2['type']=='category'].index\n",
    "B = df_test.columns\n",
    "\n",
    "tar_col = set(A).intersection(set(B))\n",
    "\n",
    "df_test = dt.one_hot_encoding(df_test, tar_col, False)\n",
    "\n",
    "print(df_test.shape, df_test.isnull().any().any())\n",
    "print(df_test.columns)"
   ]
  },
  {
   "cell_type": "code",
   "execution_count": 52,
   "metadata": {},
   "outputs": [
    {
     "name": "stdout",
     "output_type": "stream",
     "text": [
      "train length 220 False\n",
      "test length 239 False\n",
      "result length 206\n"
     ]
    }
   ],
   "source": [
    "train_col = set(df_train.columns)\n",
    "train_col.remove('SalePrice')\n",
    "\n",
    "test_col = set(df_test.columns)\n",
    "\n",
    "res = list(train_col.intersection(test_col))\n",
    "\n",
    "print('train length',len(train_col), df_train.isnull().any().any())\n",
    "print('test length',len(test_col), df_test.isnull().any().any())\n",
    "print('result length',len(res))"
   ]
  },
  {
   "cell_type": "code",
   "execution_count": 53,
   "metadata": {},
   "outputs": [
    {
     "name": "stdout",
     "output_type": "stream",
     "text": [
      "(1460, 207) False\n",
      "(1459, 206) False\n"
     ]
    }
   ],
   "source": [
    "df_test_res = df_test[res]\n",
    "res.append('SalePrice')\n",
    "df_train_res = df_train[res]\n",
    "\n",
    "print(df_train_res.shape, df_train_res.isnull().any().any())\n",
    "print(df_test_res.shape, df_test_res.isnull().any().any())"
   ]
  },
  {
   "cell_type": "code",
   "execution_count": 54,
   "metadata": {},
   "outputs": [
    {
     "data": {
      "text/plain": [
       "Index([], dtype='object')"
      ]
     },
     "execution_count": 54,
     "metadata": {},
     "output_type": "execute_result"
    }
   ],
   "source": [
    "# df_train_res.isnull().any().sum()\n",
    "df_train_res.T[df_train_res.isnull().any()==True].index\n",
    "# df_train_res.isnull()"
   ]
  },
  {
   "cell_type": "code",
   "execution_count": 55,
   "metadata": {},
   "outputs": [],
   "source": [
    "df_train_res.to_csv('../data/df_train.csv', encoding='utf8', index=False)\n",
    "df_test_res.to_csv('../data/df_test.csv', encoding='utf8', index=False)"
   ]
  }
 ],
 "metadata": {
  "kernelspec": {
   "display_name": "Python 3",
   "language": "python",
   "name": "python3"
  },
  "language_info": {
   "codemirror_mode": {
    "name": "ipython",
    "version": 3
   },
   "file_extension": ".py",
   "mimetype": "text/x-python",
   "name": "python",
   "nbconvert_exporter": "python",
   "pygments_lexer": "ipython3",
   "version": "3.6.5"
  }
 },
 "nbformat": 4,
 "nbformat_minor": 2
}
