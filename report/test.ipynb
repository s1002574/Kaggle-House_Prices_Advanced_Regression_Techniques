{
 "cells": [
  {
   "cell_type": "code",
   "execution_count": 1,
   "metadata": {},
   "outputs": [],
   "source": [
    "import gc\n",
    "# gc.collect()\n",
    "\n",
    "import pandas as pd\n",
    "import numpy as np\n",
    "\n",
    "%matplotlib inline\n",
    "import matplotlib.pyplot as plt\n",
    "import seaborn as sns\n",
    "\n",
    "import data_describe as dd\n",
    "import stepwise"
   ]
  },
  {
   "cell_type": "code",
   "execution_count": null,
   "metadata": {},
   "outputs": [],
   "source": [
    "path = '../data/'\n",
    "data_name = [\"train\", 'test', 'sample_submission']\n",
    "\n",
    "df_train = pd.read_csv(\"{}{}.csv\".format(path,data_name[0]), encoding='utf8')\n",
    "print(df_train.shape)\n",
    "\n",
    "df_test = pd.read_csv(\"{}{}.csv\".format(path,data_name[1]), encoding='utf8')\n",
    "print(df_test.shape)\n",
    "\n",
    "df_submission = pd.read_csv(\"{}{}.csv\".format(path,data_name[2]), encoding='utf8')\n",
    "print(df_submission.shape)\n",
    "\n",
    "# -----------data info\n",
    "data_describe1 =dd.data_describe(df_train, 'numeric');\n",
    "data_describe2 = dd.data_describe(df_test, 'numeric');\n",
    "data_describe1[data_describe1.is_null==True]"
   ]
  },
  {
   "cell_type": "code",
   "execution_count": null,
   "metadata": {},
   "outputs": [],
   "source": []
  },
  {
   "cell_type": "code",
   "execution_count": null,
   "metadata": {},
   "outputs": [],
   "source": []
  },
  {
   "cell_type": "code",
   "execution_count": null,
   "metadata": {},
   "outputs": [],
   "source": []
  }
 ],
 "metadata": {
  "kernelspec": {
   "display_name": "Python 3",
   "language": "python",
   "name": "python3"
  },
  "language_info": {
   "codemirror_mode": {
    "name": "ipython",
    "version": 3
   },
   "file_extension": ".py",
   "mimetype": "text/x-python",
   "name": "python",
   "nbconvert_exporter": "python",
   "pygments_lexer": "ipython3",
   "version": "3.6.5"
  }
 },
 "nbformat": 4,
 "nbformat_minor": 2
}
