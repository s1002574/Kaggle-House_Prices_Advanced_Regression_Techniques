{
 "cells": [
  {
   "cell_type": "markdown",
   "metadata": {},
   "source": [
    "# Modeling"
   ]
  },
  {
   "cell_type": "code",
   "execution_count": 1,
   "metadata": {},
   "outputs": [],
   "source": [
    "import pandas as pd\n",
    "import numpy as np\n",
    "import matplotlib.pyplot as plt\n",
    "import xgboost as xgb\n",
    "from my_toolbox import create_model as cm"
   ]
  },
  {
   "cell_type": "code",
   "execution_count": 2,
   "metadata": {},
   "outputs": [],
   "source": [
    "df_train = pd.read_csv('../data/df_train.csv')\n",
    "df_test = pd.read_csv('../data/df_test.csv')\n",
    "df_submit = pd.read_csv('../data/sample_submission.csv')\n",
    "\n",
    "x = df_train.iloc[:, :-1].values\n",
    "y = df_train.iloc[:, -1].values\n",
    "test_x = df_test.values"
   ]
  },
  {
   "cell_type": "code",
   "execution_count": 3,
   "metadata": {},
   "outputs": [
    {
     "name": "stdout",
     "output_type": "stream",
     "text": [
      "train_x (1168, 206)\n",
      "train_y (1168,)\n",
      "val_x (292, 206)\n",
      "val_y (292,)\n"
     ]
    }
   ],
   "source": [
    "model_obj = cm.modeling(x, y)"
   ]
  },
  {
   "cell_type": "markdown",
   "metadata": {},
   "source": [
    "### linear"
   ]
  },
  {
   "cell_type": "raw",
   "metadata": {},
   "source": [
    "linear_model = model_obj.linear_modeling()\n",
    "test_y = linear_model.predict(test_x)\n",
    "df_result = pd.DataFrame(df_submit['Id'])\n",
    "df_result['SalePrice'] = test_y\n",
    "df_result.to_csv('../submit/linear_result.csv', index=False)"
   ]
  },
  {
   "cell_type": "markdown",
   "metadata": {},
   "source": [
    "### Lasso"
   ]
  },
  {
   "cell_type": "raw",
   "metadata": {},
   "source": [
    "lasso_model = model_obj.lasso_moedeling()\n",
    "test_y = lasso_model.predict(test_x)\n",
    "df_result = pd.DataFrame(df_submit['Id'])\n",
    "df_result['SalePrice'] = test_y\n",
    "df_result.to_csv('../submit/Lasso_result.csv', index=False)"
   ]
  },
  {
   "cell_type": "markdown",
   "metadata": {},
   "source": [
    "### Ridge"
   ]
  },
  {
   "cell_type": "raw",
   "metadata": {},
   "source": [
    "ridge_model = model_obj.ridge_modeling()\n",
    "test_y = ridge_model.predict(test_x)\n",
    "df_result = pd.DataFrame(df_submit['Id'])\n",
    "df_result['SalePrice'] = test_y\n",
    "df_result.to_csv('../submit/Ridge_result.csv', index=False)"
   ]
  },
  {
   "cell_type": "markdown",
   "metadata": {},
   "source": [
    "### Elastic Net"
   ]
  },
  {
   "cell_type": "raw",
   "metadata": {},
   "source": [
    "elasticnet_model = model_obj.elastic_modeling()\n",
    "test_y = elasticnet_model.predict(test_x)\n",
    "df_result = pd.DataFrame(df_submit['Id'])\n",
    "df_result['SalePrice'] = test_y\n",
    "df_result.to_csv('../submit/Elasticnet_result.csv', index=False)"
   ]
  },
  {
   "cell_type": "markdown",
   "metadata": {},
   "source": [
    "### Random Forest"
   ]
  },
  {
   "cell_type": "raw",
   "metadata": {},
   "source": [
    "rf_model = model_obj.rf_modeling()\n",
    "test_y = rf_model.predict(test_x)\n",
    "df_result = pd.DataFrame(df_submit['Id'])\n",
    "df_result['SalePrice'] = test_y\n",
    "df_result.to_csv('../submit/Forest_result.csv', index=False)"
   ]
  },
  {
   "cell_type": "markdown",
   "metadata": {},
   "source": [
    "### XGBoost"
   ]
  },
  {
   "cell_type": "code",
   "execution_count": 4,
   "metadata": {},
   "outputs": [
    {
     "name": "stdout",
     "output_type": "stream",
     "text": [
      "[19:50:40] Tree method is selected to be 'hist', which uses a single updater grow_fast_histmaker.\n"
     ]
    },
    {
     "data": {
      "image/png": "[encoded data removed]",
      "text/plain": [
       "<Figure size 432x288 with 1 Axes>"
      ]
     },
     "metadata": {
      "needs_background": "light"
     },
     "output_type": "display_data"
    },
    {
     "name": "stdout",
     "output_type": "stream",
     "text": [
      "RMSE: [0]\teval-rmse:27985.957031\n",
      "r-square for validation data is 0.87321247269708\n",
      "r-square for train data is 0.9834635775266697\n",
      "cost time: 0.2964606285095215\n"
     ]
    }
   ],
   "source": [
    "xgb_model = model_obj.xgb_modeling()\n",
    "xgb_test_x = xgb.DMatrix(test_x)\n",
    "test_y = xgb_model.predict(xgb_test_x)\n",
    "df_result = pd.DataFrame(df_submit['Id'])\n",
    "df_result['SalePrice'] = test_y\n",
    "df_result.to_csv('../submit/xgb_result.csv', index=False)"
   ]
  }
 ],
 "metadata": {
  "kernelspec": {
   "display_name": "Python 3",
   "language": "python",
   "name": "python3"
  },
  "language_info": {
   "codemirror_mode": {
    "name": "ipython",
    "version": 3
   },
   "file_extension": ".py",
   "mimetype": "text/x-python",
   "name": "python",
   "nbconvert_exporter": "python",
   "pygments_lexer": "ipython3",
   "version": "3.6.5"
  }
 },
 "nbformat": 4,
 "nbformat_minor": 2
}
